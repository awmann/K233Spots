{
 "cells": [
  {
   "cell_type": "markdown",
   "metadata": {},
   "source": [
    "This code is to fit a spectrum as the sum of two models, and really it's a sum of four models. \n",
    "\n",
    "The goal is to map out the space of possible delta-Teff and spot coverage fractions allowed.\n",
    "I suspect I will have to run this with a prior on either delta-Teff or fS to get something meaningful because of degeneracies"
   ]
  },
  {
   "cell_type": "markdown",
   "metadata": {},
   "source": [
    "To do:\n",
    "<br /> -Test with models against models\n",
    "<br /> -Read in observed spectra of K2-33\n",
    "<br /> -Test LkCa 4 (if we have a spectrum)?\n",
    "<br /> -Down-sample and smooth models to match data\n",
    "<br /> -Test with fS = 0"
   ]
  },
  {
   "cell_type": "code",
   "execution_count": 21,
   "metadata": {},
   "outputs": [],
   "source": [
    "from scipy import interpolate\n",
    "import matplotlib.pyplot as plt\n",
    "import numpy as np\n",
    "from astropy.coordinates import SkyCoord\n",
    "from astropy.timeseries import LombScargle\n",
    "import astropy.units as u\n",
    "import healpy as hp\n",
    "from lightkurve import search_lightcurvefile\n",
    "from emcee import EnsembleSampler\n",
    "from multiprocessing import Pool\n",
    "from corner import corner\n",
    "from astropy.io import fits\n",
    "from ldtk import LDPSetCreator, BoxcarFilter, TabulatedFilter\n",
    "from multiprocessing import Pool\n",
    "from scipy import stats\n",
    "import numpy.random as random\n",
    "from scipy import optimize\n",
    "import emcee\n",
    "import corner\n",
    "import random\n",
    "\n",
    "import multiprocessing as mp\n",
    "Pool = mp.get_context('fork').Pool"
   ]
  },
  {
   "cell_type": "code",
   "execution_count": 22,
   "metadata": {},
   "outputs": [],
   "source": [
    "plt.rcParams['lines.linewidth']   =3\n",
    "plt.rcParams['axes.linewidth']    = 2\n",
    "plt.rcParams['xtick.major.width'] =2\n",
    "plt.rcParams['ytick.major.width'] =2\n",
    "plt.rcParams['ytick.labelsize'] = 11\n",
    "plt.rcParams['xtick.labelsize'] = 11\n",
    "plt.rcParams['axes.labelsize'] = 15\n",
    "plt.rcParams['legend.numpoints'] = 1\n",
    "plt.rcParams['axes.labelweight']='semibold'\n",
    "plt.rcParams['mathtext.fontset']='stix'\n",
    "plt.rcParams['font.weight'] = 'semibold'\n",
    "plt.rcParams['axes.titleweight']='semibold'\n",
    "plt.rcParams['axes.titlesize']=9"
   ]
  },
  {
   "cell_type": "code",
   "execution_count": 23,
   "metadata": {},
   "outputs": [
    {
     "name": "stdout",
     "output_type": "stream",
     "text": [
      "Filename: /Users/andrewmann/Dropbox/Radii/Models_CIFIST_Dupuy.fits\n",
      "No.    Name      Ver    Type      Cards   Dimensions   Format\n",
      "  0  PRIMARY       1 PrimaryHDU       4   ()      \n",
      "  1                1 BinTableHDU     36   1R x 7C   [3760A, 44252296E, 296E, 296E, 296E, 296E, 296E]   \n",
      "500.0 3900.0\n",
      "[['SIMPLE  =                    T / Written by IDL:  Sun Apr 17 10:22:04 2016'\n",
      "  'BITPIX  =                  -32 / Number of bits per data pixel'\n",
      "  'NAXIS   =                    2 / Number of data axes'\n",
      "  'NAXIS1  =                  296 /' 'NAXIS2  =               149501 /'\n",
      "  \"DATE    = '2016-04-17'         / Creation UTC (CCCC-MM-DD) date of FITS header\"\n",
      "  'NMODEL  =                  296 /number of models'\n",
      "  'NLAMBDA =               149501 /number of wavelengths'\n",
      "  'LAMBDA_0=              1000.00 /starting wavelength in Angstroms'\n",
      "  'D_LAMBDA=              2.00000 /increment in Angstroms'\n",
      "  \"COMMENT FITS (Flexible Image Transport System) format is defined in 'Astronomy\"\n",
      "  \"COMMENT and Astrophysics', volume 376, page 359; bibcode 2001A&A...376..359H\"\n",
      "  'END' '' '' '' '' '' '' '' '' '' '' '' '' '' '' '' '' '' '' '' '' '' ''\n",
      "  '' '' '' '' '' '' '' '' '' '' '' '']]\n"
     ]
    }
   ],
   "source": [
    "#modelpath = '/Users/andrewmann/Dropbox/Radii/Models_CIFIST_Aug2013_filler.fits'\n",
    "modelpath = '/Users/andrewmann/Dropbox/Radii/Models_CIFIST_Dupuy.fits'\n",
    "hdul = fits.open(modelpath)\n",
    "hdul.info()\n",
    "hdr = hdul[1].header\n",
    "data = hdul[1].data\n",
    "\n",
    "print(np.min(data['teff']),np.max(data['teff']))\n",
    "print(data['header'])"
   ]
  },
  {
   "cell_type": "code",
   "execution_count": 103,
   "metadata": {},
   "outputs": [
    {
     "name": "stdout",
     "output_type": "stream",
     "text": [
      "(1, 24800)\n",
      "(29,) (24800, 29) (24800,)\n",
      "3900.0 1100.0\n"
     ]
    }
   ],
   "source": [
    "## trim the models to just solar metallicity \n",
    "\n",
    "teff = np.squeeze(data['teff'])\n",
    "logg = np.squeeze(data['logg'])\n",
    "afe = np.squeeze(data['a_fe'])\n",
    "mh = np.squeeze(data['metal'])\n",
    "spectra = np.squeeze(data['spectrum'])\n",
    "\n",
    "#for i,j,k,l in zip(teff,logg,afe,mh):\n",
    "#    print(i,j,k,l)\n",
    "\n",
    "loc = np.where((logg == 4.5) & (mh == 0) & (teff > 1000) & (afe == 0))\n",
    "modelteff = teff[loc]\n",
    "modelspectra = np.squeeze(spectra[:,loc])\n",
    "lambda0 = 1000\n",
    "nlambda = 149501\n",
    "dlambda = 2\n",
    "modelwave = np.linspace(lambda0,lambda0+nlambda*dlambda,num=nlambda)\n",
    "\n",
    "ll = np.where((modelwave > 3400) & (modelwave < 53000))\n",
    "print(np.shape(ll))\n",
    "modelspectra = np.squeeze(modelspectra[ll,:])\n",
    "modelwave = modelwave[ll]\n",
    "print(np.shape(modelteff),np.shape(modelspectra),np.shape(modelwave))\n",
    "print(np.max(modelteff),np.min(modelteff))"
   ]
  },
  {
   "cell_type": "code",
   "execution_count": 104,
   "metadata": {},
   "outputs": [],
   "source": [
    "def getspec(teffs,spectra, inteff): ##  for now other parameters are fixed\n",
    "    loc = np.where(teffs == inteff)\n",
    "    #print(inteff,np.shape(spectra),np.shape(teffs))\n",
    "    above = np.min(np.where(teffs >= inteff))\n",
    "    below = np.max(np.where(teffs < inteff))\n",
    "    if np.size(below) < 1 or np.size(above) < 1:\n",
    "        return(-np.inf)\n",
    "    \n",
    "    spec1 = np.squeeze(spectra[:,above])\n",
    "    spec2 = np.squeeze(spectra[:,below])\n",
    "    weight = (inteff-teffs[below])/(teffs[above]-teffs[below])\n",
    "    spec = (1.-weight)*spec2 + weight*spec1\n",
    "    #else:\n",
    "    #    spec = np.squeeze(spectra[:,loc])\n",
    "    return(spec)"
   ]
  },
  {
   "cell_type": "code",
   "execution_count": 105,
   "metadata": {},
   "outputs": [],
   "source": [
    "## this will take two temperatures (spot and surf) \n",
    "##and a coverage fraction (fS) \n",
    "## and output the relevant spectrum\n",
    "def doublespec(teffs,spectra, teff1,teff2,fS):\n",
    "    spec1 = getspec(teffs,spectra,teff1)\n",
    "    spec2 = getspec(teffs,spectra,teff2)\n",
    "    spec = spec1*(1-fS) + spec2*fS\n",
    "    return(spec)"
   ]
  },
  {
   "cell_type": "code",
   "execution_count": 130,
   "metadata": {},
   "outputs": [],
   "source": [
    "## the likelihood needs to fit a few parameters:\n",
    "## 1) Tsurf\n",
    "## 2) Tspot \n",
    "## 3) small lambda offsets\n",
    "## 4) flux calibration errors?\n",
    "## 5) fS\n",
    "## 6) ??\n",
    "#define functions for MCMC\n",
    "def ln_prior(theta):\n",
    "    Tsurf, Tspot, fS, a, loff, f = theta\n",
    "    if (loff < -2) or (loff > 2) or (Tspot < 1500) or (Tspot > 3900) or (Tsurf < 1500) or (Tsurf > 3900) or fS < 0.0 or fS > 1.0 or f < 0 or f > 5:\n",
    "        return -np.inf\n",
    "    return 0\n",
    "\n",
    "## warning, wavelengths for model spectra and observational data must match\n",
    "def ln_likelihood(theta, modelteff, modelspectra, wav, obsspec, obserr ):\n",
    "    Tsurf, Tspot, fS, a, loff, f = theta\n",
    "    modelspec = doublespec(modelteff,modelspectra,Tsurf,Tspot,fS)\n",
    "    \n",
    "    newwav = wav + loff\n",
    "    interpfunc = interpolate.interp1d(wav, modelspec, kind='linear',fill_value=\"extrapolate\")\n",
    "    modelspec_shift = interpfunc(newwav)\n",
    "\n",
    "    modelspec_smooth = modelspec_shift/(a)  \n",
    "    \n",
    "    s_squared = np.square(obserr*(1.+f))\n",
    "    p = (1. / np.sqrt(2 * np.pi * s_squared)) * np.exp(-np.square(modelspec_smooth - obsspec) / (2 * s_squared)) \n",
    "    output = np.sum(np.log(p))\n",
    "    return output\n",
    "\n",
    "def ln_posterior(theta, modelteff, modelspectra, wav, obsspec, obserr ):\n",
    "    ln_p = ln_prior(theta)\n",
    "    if not np.isfinite(ln_p):\n",
    "        return -np.inf\n",
    "    ln_like = ln_likelihood(theta, modelteff, modelspectra, wav, obsspec, obserr )\n",
    "    if not np.isfinite(ln_like):\n",
    "        return -np.inf\n",
    "    return ln_p + ln_like"
   ]
  },
  {
   "cell_type": "code",
   "execution_count": 131,
   "metadata": {},
   "outputs": [
    {
     "data": {
      "image/png": "[encoded data removed]",
      "text/plain": [
       "<Figure size 432x288 with 1 Axes>"
      ]
     },
     "metadata": {
      "needs_background": "light"
     },
     "output_type": "display_data"
    },
    {
     "name": "stdout",
     "output_type": "stream",
     "text": [
      "if this is inf, we have a problem:\n",
      "-772966.4595836552\n"
     ]
    }
   ],
   "source": [
    "nwalkers, ndim = 30, 6\n",
    "nthreads = 12\n",
    "initial_guesses = [3800, 3000, 0.5, 1, 0.1, 0.1]\n",
    "testspec = doublespec(modelteff,modelspectra,3500,2500,0.9)\n",
    "obsspec = doublespec(modelteff,modelspectra,3470,1900,0.3)\n",
    "obserr = obsspec*0.05\n",
    "for i in range(0,np.size(obsspec)) :\n",
    "    obsspec[i] += np.random.normal(0,obsspec[i]*0.05,1)\n",
    "\n",
    "plt.plot(modelwave,obsspec,label='obsspec')\n",
    "plt.plot(modelwave,testspec,label='testspec')\n",
    "plt.xscale('log')\n",
    "plt.yscale('log')\n",
    "plt.xlim(3000,2000)\n",
    "plt.show()\n",
    "\n",
    "print('if this is inf, we have a problem:')\n",
    "print(ln_posterior(initial_guesses,modelteff,modelspectra,modelwave,obsspec,obserr))\n",
    "pos0 = [initial_guesses*(1+0.01*np.random.randn(ndim)) for i in range(nwalkers)]"
   ]
  },
  {
   "cell_type": "code",
   "execution_count": null,
   "metadata": {},
   "outputs": [
    {
     "name": "stderr",
     "output_type": "stream",
     "text": [
      "  9%|▉         | 474/5000 [00:24<03:37, 20.76it/s]"
     ]
    }
   ],
   "source": [
    "nsteps = 5000\n",
    "burn = 1000\n",
    "thin = 1\n",
    "\n",
    "sampler = emcee.EnsembleSampler(nwalkers, ndim, ln_posterior, args=(modelteff,modelspectra,modelwave,obsspec,obserr), threads=nthreads)\n",
    "sampler.run_mcmc(pos0, nsteps,progress=True)\n",
    "\n",
    "print('done')"
   ]
  },
  {
   "cell_type": "code",
   "execution_count": null,
   "metadata": {},
   "outputs": [],
   "source": [
    "flat_samples = sampler.get_chain(discard=burn, thin=thin, flat=True)\n",
    "labels = ['Tsurf','Tspot','fS','a','b','c','d','loff','f']\n",
    "print(flat_samples.shape)\n",
    "fig = corner.corner( \n",
    "    flat_samples, labels=labels, show_titles=True,\n",
    "    fill_contours=True, plot_datapoints=False,title_kwargs={\"fontsize\": 11},title_fmt='.4f',\n",
    "    hist_kwargs={\"linewidth\": 2.5},levels=[(1-np.exp(-0.5)),(1-np.exp(-2)),(1-np.exp(-4.5))]\n",
    ");\n",
    "\n",
    "#plt.show()\n",
    "plt.savefig('Corner_spec.pdf')"
   ]
  },
  {
   "cell_type": "code",
   "execution_count": null,
   "metadata": {},
   "outputs": [],
   "source": []
  }
 ],
 "metadata": {
  "kernelspec": {
   "display_name": "Python 3",
   "language": "python",
   "name": "python3"
  },
  "language_info": {
   "codemirror_mode": {
    "name": "ipython",
    "version": 3
   },
   "file_extension": ".py",
   "mimetype": "text/x-python",
   "name": "python",
   "nbconvert_exporter": "python",
   "pygments_lexer": "ipython3",
   "version": "3.7.6"
  }
 },
 "nbformat": 4,
 "nbformat_minor": 4
}
