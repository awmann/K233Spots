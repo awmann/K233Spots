{
 "cells": [
  {
   "cell_type": "markdown",
   "metadata": {},
   "source": [
    "This code should do the following:<br>\n",
    "XXX&nbsp;  1) Take an input temperature and spew back a model spectrum<br>\n",
    "XXX&nbsp; 2) Take two spectra and compute relevant flux contribution from each, given a filter profile<br>\n",
    "XXX&nbsp;     3) Compute the adjusted transit depth assuming unocculted spots with the properties above<br>\n",
    "XXX&nbsp;     4) Take a model transmission spectrum, adjust it according to two parameters:<br>\n",
    "XXX&nbsp; &nbsp;         Spot Teff (converted to contrast using 1-3)<br>\n",
    " &nbsp; &nbsp;        Spot coverage<br>\n",
    "XXX&nbsp;     5) Compare that model transmission spectrum to observed data inside emcee. <br>\n",
    "&nbsp;     6) Make work with non-symmetric errors\n",
    "\n",
    "Additional component (Jan 30):\n",
    "nbsp; In the first iteration, I locked the warm region of the star to a fixed temperature. This is only true if fS is small. What I should do is force it to a value the resulting optical spectrum yields the correct answer (since that is how we measure Teff). This is a small effect, because the optical is dominated by the warm region (Wein tail is steep), but it's not too hard to fix so let's just add it in. \n",
    "  "
   ]
  },
  {
   "cell_type": "code",
   "execution_count": 1,
   "metadata": {},
   "outputs": [],
   "source": [
    "from scipy import interpolate\n",
    "import matplotlib.pyplot as plt\n",
    "import numpy as np\n",
    "from astropy.coordinates import SkyCoord\n",
    "from astropy.timeseries import LombScargle\n",
    "import astropy.units as u\n",
    "import healpy as hp\n",
    "from lightkurve import search_lightcurvefile\n",
    "from emcee import EnsembleSampler\n",
    "from multiprocessing import Pool\n",
    "from corner import corner\n",
    "from astropy.io import fits\n",
    "from ldtk import LDPSetCreator, BoxcarFilter, TabulatedFilter\n",
    "from multiprocessing import Pool\n",
    "from scipy import stats\n",
    "import numpy.random as random\n",
    "from scipy import optimize\n",
    "import emcee\n",
    "import corner\n",
    "import random\n",
    "from gaussfold import gaussfold as gf\n",
    "\n",
    "import multiprocessing as mp\n",
    "Pool = mp.get_context('fork').Pool"
   ]
  },
  {
   "cell_type": "code",
   "execution_count": 2,
   "metadata": {},
   "outputs": [],
   "source": [
    "## make the plots not suck\n",
    "plt.rcParams['lines.linewidth']   =3\n",
    "plt.rcParams['axes.linewidth']    = 2\n",
    "plt.rcParams['xtick.major.width'] =2\n",
    "plt.rcParams['ytick.major.width'] =2\n",
    "plt.rcParams['ytick.labelsize'] = 11\n",
    "plt.rcParams['xtick.labelsize'] = 11\n",
    "plt.rcParams['axes.labelsize'] = 15\n",
    "plt.rcParams['legend.numpoints'] = 1\n",
    "plt.rcParams['axes.labelweight']='semibold'\n",
    "plt.rcParams['mathtext.fontset']='stix'\n",
    "plt.rcParams['font.weight'] = 'semibold'\n",
    "plt.rcParams['axes.titleweight']='semibold'\n",
    "plt.rcParams['axes.titlesize']=9"
   ]
  },
  {
   "cell_type": "code",
   "execution_count": 3,
   "metadata": {},
   "outputs": [],
   "source": [
    "import multiprocessing\n",
    "import os\n",
    "from multiprocessing import Pool\n",
    "os.environ[\"OMP_NUM_THREADS\"] = \"1\"\n",
    "from multiprocessing import cpu_count"
   ]
  },
  {
   "cell_type": "code",
   "execution_count": 4,
   "metadata": {},
   "outputs": [],
   "source": [
    "def to_str(var):\n",
    "    if type(var) is list:\n",
    "        return str(var)[1:-1] # list\n",
    "    if type(var) is np.ndarray:\n",
    "        try:\n",
    "            return str(list(var[0]))[1:-1] # numpy 1D array\n",
    "        except TypeError:\n",
    "            return str(list(var))[1:-1] # numpy sequence\n",
    "    return str(var) # everything else"
   ]
  },
  {
   "cell_type": "code",
   "execution_count": 5,
   "metadata": {},
   "outputs": [],
   "source": [
    "## parameters we adjust\n",
    "\n",
    "num = 2"
   ]
  },
  {
   "cell_type": "code",
   "execution_count": 6,
   "metadata": {},
   "outputs": [
    {
     "name": "stdout",
     "output_type": "stream",
     "text": [
      "Filename: /Users/andrewmann/Dropbox/Radii/Models_CIFIST_Dupuy.fits\n",
      "No.    Name      Ver    Type      Cards   Dimensions   Format\n",
      "  0  PRIMARY       1 PrimaryHDU       4   ()      \n",
      "  1                1 BinTableHDU     36   1R x 7C   [3760A, 44252296E, 296E, 296E, 296E, 296E, 296E]   \n"
     ]
    }
   ],
   "source": [
    "modelpath = '/Users/andrewmann/Dropbox/Radii/Models_CIFIST_Dupuy.fits' ## these models go a bit cooler. \n",
    "hdul = fits.open(modelpath)\n",
    "hdul.info()\n",
    "hdr = hdul[1].header\n",
    "data = hdul[1].data\n",
    "teff = np.squeeze(data['teff'])\n",
    "logg = np.squeeze(data['logg'])\n",
    "afe = np.squeeze(data['a_fe'])\n",
    "mh = np.squeeze(data['metal'])\n",
    "spectra = np.squeeze(data['spectrum'])\n",
    "loc = np.where((logg == 4.5) & (mh == 0) & (teff > 1000) & (afe == 0))\n",
    "modelteff = teff[loc]\n",
    "modelspectra = np.squeeze(spectra[:,loc])\n",
    "lambda0 = 1000\n",
    "nlambda = 149501\n",
    "dlambda = 2\n",
    "modelwave = np.linspace(lambda0,lambda0+nlambda*dlambda,num=nlambda)"
   ]
  },
  {
   "cell_type": "code",
   "execution_count": 7,
   "metadata": {},
   "outputs": [
    {
     "name": "stdout",
     "output_type": "stream",
     "text": [
      "(29,) (10400, 29) (10400,)\n",
      "3900.0 1100.0\n"
     ]
    }
   ],
   "source": [
    "ll = np.where((modelwave > 3400) & (modelwave < 53000))\n",
    "modelspectra = np.squeeze(modelspectra[ll,:])\n",
    "modelwave = modelwave[ll]\n",
    "lambda0 = 3000\n",
    "nlambda = int((55000-3000)/5)\n",
    "dlambda = 5\n",
    "## resample model spectra\n",
    "newlambda = np.linspace(lambda0,lambda0+nlambda*dlambda,num=nlambda)\n",
    "newmodel = np.zeros((np.size(newlambda),np.size(modelteff)))\n",
    "for i in range(0,np.size(modelteff)):\n",
    "    tmp = np.array(modelspectra[:,i])\n",
    "    interpfunc1 = interpolate.interp1d(modelwave, tmp, kind='linear',fill_value=\"extrapolate\")\n",
    "    modelspec_new = interpfunc1(newlambda)\n",
    "    modelspec_new = gf(newlambda, modelspec_new, 10)\n",
    "    newmodel[:,i] = modelspec_new\n",
    "\n",
    "modelwave = newlambda\n",
    "modelspectra = newmodel\n",
    "\n",
    "print(np.shape(modelteff),np.shape(modelspectra),np.shape(modelwave))\n",
    "print(np.max(modelteff),np.min(modelteff))"
   ]
  },
  {
   "cell_type": "code",
   "execution_count": 8,
   "metadata": {},
   "outputs": [],
   "source": [
    "# modelpath = '/Users/andrewmann/Dropbox/Radii/Models_K233_Feb2020.fits'\n",
    "# hdul = fits.open(modelpath)\n",
    "# hdul.info()\n",
    "# hdr = hdul[1].header\n",
    "# data = hdul[1].data\n",
    "# lambda0 = 4000\n",
    "# nlambda = 210001\n",
    "# dlambda = 0.1\n",
    "# modelwave2 = np.linspace(lambda0,lambda0+nlambda*dlambda,num=nlambda)\n",
    "# modelteff2 = np.squeeze(data['teff'])\n",
    "# modellogg2 = np.squeeze(data['logg'])\n",
    "# modelafe = np.squeeze(data['a_fe'])\n",
    "# modelmh2 = np.squeeze(data['metal'])\n",
    "# modelspectra2 = np.squeeze(data['spectrum'])\n",
    "\n",
    "# ll = np.where((modelwave2 > 3400) & (modelwave2 < 53000))\n",
    "# modelspectra2 = np.array(np.squeeze(modelspectra2[ll,:]))\n",
    "# modelwave2 = modelwave2[ll]\n",
    "# lambda0 = 3000\n",
    "# dlambda = 2\n",
    "# nlambda = int((55000-3000)/dlambda)\n",
    "# newlambda2 = np.array(np.linspace(lambda0,lambda0+nlambda*dlambda,num=nlambda))\n",
    "# newmodel2 = np.array(np.zeros((np.size(newlambda2),np.size(modelteff2))))\n",
    "# for i in range(0,np.size(modelteff2)):\n",
    "#     tmp = np.array(modelspectra2[:,i])\n",
    "#     interpfunc2 = interpolate.interp1d(modelwave2, tmp, kind='cubic',fill_value=\"extrapolate\")\n",
    "#     modelspec_new2 = interpfunc2(newlambda2)\n",
    "#     modelspec_new2 = gf(newlambda2, modelspec_new2, 8)\n",
    "#     newmodel2[:,i] = modelspec_new2\n",
    "\n",
    "# modelwave2 = np.array(newlambda2)\n",
    "# modelspectra2 = np.array(newmodel2)"
   ]
  },
  {
   "cell_type": "code",
   "execution_count": 9,
   "metadata": {},
   "outputs": [],
   "source": [
    "# print(np.shape(modelwave2),np.shape(modelspectra2),np.shape(modelteff2))\n",
    "# print(modelteff2)\n",
    "# spec1 = getspec(modelteff2,modelspectra2,3540)\n",
    "# spec2 = getspec(modelteff2,modelspectra2,3200)\n",
    "# plt.plot(modelwave2,spec1)\n",
    "# plt.plot(modelwave2,spec2)\n",
    "# plt.xlim(5000,10000)\n",
    "# plt.ylim(1e4,1e6)\n",
    "# plt.show()"
   ]
  },
  {
   "cell_type": "code",
   "execution_count": 10,
   "metadata": {},
   "outputs": [],
   "source": [
    "def getspec(teffs,spectra, inteff): ##  for now other parameters are fixed\n",
    "    loc = np.where(teffs == inteff)\n",
    "    #print(loc,teffs[loc])\n",
    "    #if np.size(loc) < 1:\n",
    "    ## interpolate\n",
    "    #above = np.min(np.where((logg == 4.5) & (afe == 0) & (mh == 0) & (teff > inteff)))\n",
    "    #below = np.max(np.where((logg == 4.5) & (afe == 0) & (mh == 0) & (teff < inteff)))\n",
    "    above = np.min(np.where(teffs >= inteff))\n",
    "    below = np.max(np.where(teffs < inteff))\n",
    "    spec1 = np.squeeze(spectra[:,above])\n",
    "    spec2 = np.squeeze(spectra[:,below])\n",
    "    weight = (inteff-teffs[below])/(teffs[above]-teffs[below])\n",
    "    spec = (1.-weight)*spec2 + weight*spec1\n",
    "    #else:\n",
    "    #    spec = np.squeeze(spectra[:,loc])\n",
    "    return(spec)"
   ]
  },
  {
   "cell_type": "code",
   "execution_count": 11,
   "metadata": {},
   "outputs": [
    {
     "data": {
      "image/png": "[encoded data removed]",
      "text/plain": [
       "<Figure size 432x288 with 1 Axes>"
      ]
     },
     "metadata": {
      "needs_background": "light"
     },
     "output_type": "display_data"
    }
   ],
   "source": [
    "spec1 = getspec(modelteff,modelspectra,3050)\n",
    "spec2 = getspec(modelteff,modelspectra,2950)\n",
    "spec3 = getspec(modelteff,modelspectra,2850)\n",
    "plt.plot(modelwave,spec1,label='3150')\n",
    "plt.plot(modelwave,spec2,label='2950')\n",
    "plt.plot(modelwave,spec3,label='2850')\n",
    "plt.xlim(4000,20000)\n",
    "plt.legend()\n",
    "plt.show()\n",
    "\n",
    "# spec4 = getspec(modelteff2,modelspectra2,3000)\n",
    "# spec5 = getspec(modelteff2,modelspectra2,2950)\n",
    "# spec6 = getspec(modelteff2,modelspectra2,2900)\n",
    "# plt.plot(modelwave2,spec4,label='3000-2',alpha=0.5)\n",
    "# plt.plot(modelwave2,spec5,label='2950-2',alpha=0.5)\n",
    "# plt.plot(modelwave2,spec6,label='2900-2',alpha=0.5)\n",
    "# plt.xlim(6000,8000)\n",
    "# plt.ylim(1e4,0.3e6)\n",
    "# plt.legend()\n",
    "# plt.show()\n",
    "\n",
    "# plt.plot(modelwave2,spec2-spec5)\n",
    "# plt.xlim(6000,8000)\n",
    "# plt.ylim(-1e5,1e5)\n",
    "# plt.show()"
   ]
  },
  {
   "cell_type": "code",
   "execution_count": 12,
   "metadata": {},
   "outputs": [],
   "source": [
    "from scipy import interpolate\n",
    "\n",
    "def convolve_filter(w,s,fw,ft):\n",
    "    interpfunc = interpolate.interp1d(w, s, kind='linear')\n",
    "    interpolflux = interpfunc(fw)\n",
    "    flux = np.sum(ft*interpolflux)\n",
    "    return(flux)"
   ]
  },
  {
   "cell_type": "code",
   "execution_count": 13,
   "metadata": {},
   "outputs": [
    {
     "name": "stdout",
     "output_type": "stream",
     "text": [
      "HST2\n",
      "dict_keys(['name', 'wl_min', 'wl_max'])\n"
     ]
    },
    {
     "data": {
      "text/plain": [
       "True"
      ]
     },
     "execution_count": 13,
     "metadata": {},
     "output_type": "execute_result"
    },
    {
     "data": {
      "image/png": "[encoded data removed]",
      "text/plain": [
       "<Figure size 432x288 with 1 Axes>"
      ]
     },
     "metadata": {
      "needs_background": "light"
     },
     "output_type": "display_data"
    }
   ],
   "source": [
    "x,y = np.genfromtxt('filters/mearth.tsv', delimiter=';', unpack=True)\n",
    "x*=10\n",
    "plt.plot(x,y, label='MEarth')\n",
    "mearth = TabulatedFilter('mearth', x[np.isfinite(y)], y[np.isfinite(y)])\n",
    "\n",
    "x, y = np.genfromtxt('filters/pstr-zs-avg.txt', unpack=True)\n",
    "x*=10\n",
    "plt.plot(x,y, label='zs')\n",
    "zs = TabulatedFilter('zs', x[np.isfinite(y)], y[np.isfinite(y)])\n",
    "\n",
    "x, y = np.genfromtxt('filters/tess-response-function-v1.0.csv', unpack=True, comments='#', delimiter=',')\n",
    "x*=10\n",
    "plt.plot(x,y, label='tess')\n",
    "tess = TabulatedFilter('tess', x[np.isfinite(y)], y[np.isfinite(y)])\n",
    "\n",
    "x, y = np.genfromtxt('filters/080924ch1trans_full.txt', unpack=True, comments='#', delimiter=',')\n",
    "x*=10000\n",
    "plt.plot(x,y, label='Sp1')\n",
    "s1 = TabulatedFilter('S1', x[np.isfinite(y)], y[np.isfinite(y)])\n",
    "\n",
    "x, y = np.genfromtxt('filters/080924ch2trans_full.txt', unpack=True, comments='#', delimiter=',')\n",
    "x*=10000\n",
    "plt.plot(x,y, label='Sp2')\n",
    "s2 = TabulatedFilter('S2', x[np.isfinite(y)], y[np.isfinite(y)])\n",
    "\n",
    "x,y = np.genfromtxt('filters/Kepler_Kepler.K.dat', unpack=True, comments='#', delimiter=',')\n",
    "#x/=10\n",
    "plt.plot(x,y, label='Kepler')\n",
    "kepler = TabulatedFilter('Kepler', x[np.isfinite(y)], y[np.isfinite(y)])\n",
    "\n",
    "x,y = np.genfromtxt('filters/HST_WFC3_IR.G141.dat', unpack=True, comments='#', delimiter=' ')\n",
    "#x/=10\n",
    "plt.plot(x,y, label='G141')\n",
    "G141 = TabulatedFilter('G141', x[np.isfinite(y)], y[np.isfinite(y)])\n",
    "\n",
    "## HST bands\n",
    "b1 = [11108,11416,11709,11988,12257,12522,12791,13058,13321,13586,13860,14140,14425,14719,15027,15345,15682,16042]\n",
    "b2 = [11416,11709,11988,12257,12522,12791,13058,13321,13586,13860,14140,14425,14719,15027,15345,15682,16042,16432]\n",
    "b1 = [11108,11773.5,12439,13104.5,13770,14435.5,15101,15766.5]\n",
    "b2 = [11773.5,12439,13104.5,13770,14435.5,15101,15766.5,16432]\n",
    "nbins = 8\n",
    "tmp = np.linspace(10880,16800,nbins+1)\n",
    "b1 = np.round(tmp[0:nbins])\n",
    "b2 = np.round(tmp[1:nbins+1])\n",
    "b1_num = np.array(b1)#/10\n",
    "b2_num = np.array(b2)#/10\n",
    "HST_bands = []\n",
    "hst_names = np.array(b1,dtype=str)\n",
    "for i in range(0,np.size(b1)):\n",
    "    str1 = (to_str(round(b1[i])))\n",
    "    str2 = (to_str(round(b2[i])))\n",
    "    hst_names[i] = str(str1)+'--'+str(str2)         \n",
    "counter = 1\n",
    "for i,j in zip(b1_num,b2_num):\n",
    "    HST_bands.append(BoxcarFilter('HST'+str(counter),i,j))\n",
    "    counter=counter+1\n",
    "\n",
    "    \n",
    "#print(HST_bands)\n",
    "filters = HST_bands\n",
    "filters.append(mearth)\n",
    "filters.append(kepler)\n",
    "filters.append(s1)\n",
    "filters.append(s2)\n",
    "print(filters[1].name)\n",
    "fnames = []\n",
    "for i in range(0,np.size(filters)):\n",
    "    fnames = np.append(fnames,filters[i].name)\n",
    "## wl (double-u el) and tm\n",
    "filters[10].__dict__.keys()\n",
    "#filters[0].name\n",
    "#names\n",
    "#print(G141.tm)\n",
    "inc = np.squeeze(np.where(fnames == 'HST1'))\n",
    "print(filters[inc].__dict__.keys())\n",
    "hasattr(filters[inc],'wl_max')"
   ]
  },
  {
   "cell_type": "code",
   "execution_count": 14,
   "metadata": {},
   "outputs": [],
   "source": [
    "## given depth (D), spot fraction (fS), and two spectra, compute the adjusted transit depth\n",
    "def depth_adjust(filt,D,fS,wav,surf,spot):\n",
    "    star = surf*(1.-fS) + spot*fS\n",
    "    outoftransit = star\n",
    "    intransit = (surf-surf*(D/(1.-fS)))*(1.-fS) + spot*fS\n",
    "    transit = (outoftransit-intransit)/outoftransit\n",
    "    if hasattr(filt,'wl'):\n",
    "        wl = filt.wl\n",
    "        tm = filt.tm\n",
    "    else:\n",
    "        wl = np.arange(filt.wl_min,filt.wl_max,1)\n",
    "        tm = wl*0+1.\n",
    "    #plt.plot(wav,transit)\n",
    "    #plt.xlim(np.min(wl),np.max(wl))\n",
    "    #plt.ylim(D*0.99,D*1.2)\n",
    "    #plt.show()\n",
    "    outoftransit_flux = convolve_filter(wav,outoftransit,wl,tm)\n",
    "    intransit_flux = convolve_filter(wav,intransit,wl,tm)\n",
    "    #measured = convolve_filter(wav,transit,wl,tm)\n",
    "    #outoftransit_flux = convolve_filter(wav,outoftransit,wl,tm)\n",
    "    #intransit_flux = convolve_filter(wav,intransit,wl,tm)\n",
    "    newD = (outoftransit_flux-intransit_flux)/outoftransit_flux\n",
    "    return(newD)"
   ]
  },
  {
   "cell_type": "code",
   "execution_count": 15,
   "metadata": {},
   "outputs": [
    {
     "name": "stdout",
     "output_type": "stream",
     "text": [
      "12\n",
      "HST1 0.0014607581057952846\n",
      "HST2 0.0014513539659758254\n",
      "HST3 0.001445212984206583\n",
      "HST4 0.001463993224102809\n",
      "HST5 0.0014866251765354255\n",
      "HST6 0.0014878439702045894\n",
      "HST7 0.0014801405852627283\n",
      "HST8 0.0014631173721323912\n",
      "mearth 0.0015597906313718803\n",
      "Kepler 0.0016628369686456461\n",
      "S1 0.0014248609410256934\n",
      "S2 0.0013967814101501252\n"
     ]
    }
   ],
   "source": [
    "star = getspec(modelteff,modelspectra,3540)\n",
    "spot = getspec(modelteff,modelspectra,3200)\n",
    "\n",
    "fSpot = 0.4\n",
    "Depth = 0.0013\n",
    "print(np.size(filters))\n",
    "model_depths = []\n",
    "for i in range(0,np.size(filters)):\n",
    "    filt = filters[i]\n",
    "    newD = depth_adjust(filt,Depth,fSpot,modelwave,star,spot)\n",
    "    print(filt.name,newD)\n",
    "    model_depths.append(newD)\n",
    "# inc = np.squeeze(np.where(fnames == 'tess'))\n",
    "# wl = filters[inc].wl\n",
    "# tm = filters[inc].tm\n",
    "# star2 = star*5\n",
    "# t3 = convolve_filter(wave,spot,wl,tm)\n",
    "# t2 = convolve_filter(wave,star,wl,tm)\n",
    "# t1 = convolve_filter(wave,star2,wl,tm)\n",
    "# print(t3,t2,t1)\n",
    "\n",
    "# interpfunc1 = interpolate.interp1d(wave, star, kind='linear')\n",
    "# interpfunc2 = interpolate.interp1d(wave, star2, kind='linear')\n",
    "# match1 = interpfunc1(wl)\n",
    "# match2 = interpfunc2(wl)\n",
    "# plt.plot(wave,star)\n",
    "# plt.plot(wl,match1)\n",
    "# plt.plot(wl,match2)\n",
    "# print(np.sum(tm*match1))\n",
    "# print(np.sum(tm*match2))\n",
    "# plt.xlim(5000,11000)\n",
    "# plt.show()"
   ]
  },
  {
   "cell_type": "code",
   "execution_count": 16,
   "metadata": {},
   "outputs": [],
   "source": [
    "## read in some data\n",
    "depth, errp, errm = np.loadtxt('bins_result_run46.dat',unpack=True,skiprows=1)"
   ]
  },
  {
   "cell_type": "code",
   "execution_count": 17,
   "metadata": {},
   "outputs": [],
   "source": [
    "#define functions for MCMC\n",
    "def ln_prior(theta):\n",
    "    fS, Tspot, D = theta\n",
    "    if fS < 0.0 or fS > 1 or Tspot < 1500 or Tspot > 3700 or D < 0 or D > 1:\n",
    "        return -np.inf\n",
    "    return 0\n",
    "\n",
    "def ln_likelihood(theta, depth_obs, depth_errp, depth_errm, filters, star, modelteff,modelspectra, swave):\n",
    "    fS, Tspot, D = theta\n",
    "    spot = getspec(modelteff,modelspectra,Tspot)\n",
    "    \n",
    "    depth_model = []\n",
    "    for filt in filters:\n",
    "        newD = depth_adjust(filt,D,fS,swave,star,spot)\n",
    "        depth_model.append(newD)\n",
    "        \n",
    "    ll = np.where(depth_obs > depth_model)\n",
    "    depth_err = depth_errp\n",
    "    depth_err[ll] = depth_errm[ll]\n",
    "    s_squared = np.square(depth_err)\n",
    "    p = (1. / np.sqrt(2 * np.pi * s_squared)) * np.exp(-np.square(depth_obs - depth_model) / (2 * s_squared)) \n",
    "    output = np.sum(np.log(p))\n",
    "    return output\n",
    "\n",
    "\n",
    "def ln_posterior(theta, depth_obs, depth_errp, depth_errm, filters, star, modelteff,modelspectra, swave):\n",
    "    ln_p = ln_prior(theta)\n",
    "    if not np.isfinite(ln_p):\n",
    "        return -np.inf\n",
    "    ln_like = ln_likelihood(theta, depth_obs, depth_errp, depth_errm, filters, star, modelteff,modelspectra, swave)\n",
    "    if not np.isfinite(ln_like):\n",
    "        return -np.inf\n",
    "    return ln_p + ln_like"
   ]
  },
  {
   "cell_type": "code",
   "execution_count": 18,
   "metadata": {},
   "outputs": [
    {
     "name": "stdout",
     "output_type": "stream",
     "text": [
      "if this is inf, we have a problem:\n",
      "76.48818697794691\n"
     ]
    }
   ],
   "source": [
    "nwalkers, ndim = 16, 3\n",
    "nthreads = 12\n",
    "initial_guesses = [0.6, 2900, 0.001]\n",
    "star = getspec(modelteff,modelspectra,3470)\n",
    "print('if this is inf, we have a problem:')\n",
    "print(ln_posterior(initial_guesses,depth,errp,errm,filters,star,modelteff,modelspectra,modelwave))\n",
    "pos0 = [initial_guesses*(1+0.01*np.random.randn(ndim)) for i in range(nwalkers)]"
   ]
  },
  {
   "cell_type": "code",
   "execution_count": null,
   "metadata": {
    "scrolled": true
   },
   "outputs": [
    {
     "name": "stderr",
     "output_type": "stream",
     "text": [
      " 11%|█         | 4367/40000 [05:46<48:47, 12.17it/s]  "
     ]
    }
   ],
   "source": [
    "nsteps = 40000\n",
    "burn =(nsteps//3)\n",
    "thin = 1\n",
    "\n",
    "#with Pool() as pool:\n",
    "#sampler = emcee.EnsembleSampler(nwalkers, ndim, ln_posterior, args=(depth,err,filters,data,wave), pool=pool)\n",
    "#sampler.run_mcmc(pos0, nsteps,progress=True)\n",
    "filename = \"Transspec\"+str(num)+\".h5\"\n",
    "backend = emcee.backends.HDFBackend(filename)\n",
    "sampler = emcee.EnsembleSampler(nwalkers, ndim, ln_posterior, args=(depth,errp,errm,filters,star,modelteff,modelspectra,modelwave), backend=backend, threads=nthreads)\n",
    "sampler.run_mcmc(pos0, nsteps,progress=True)\n",
    "\n",
    "print('done')"
   ]
  },
  {
   "cell_type": "code",
   "execution_count": null,
   "metadata": {},
   "outputs": [],
   "source": [
    "flat = np.array(sampler.get_chain(discard=burn, thin=thin, flat=True))\n",
    "\n",
    "flat_samples = np.array(flat)\n",
    "#flat_samples[:,2]= np.log(flat_samples[:,2])\n",
    "#flat_samples[:,1]= np.log10(flat_samples[:,1])\n",
    "flat_samples[:,2]*=100\n",
    "flat_samples[:,0]*=100\n",
    "labels = [r'$f_{S}$ (%)',r'$T_{\\rm{spot}}$ (K)','D (%)']\n",
    "print(flat_samples.shape)\n",
    "fig = corner.corner( \n",
    "    flat_samples, labels=labels,# show_titles=True,\n",
    "    fill_contours=True, plot_datapoints=False,title_kwargs={\"fontsize\": 11},#title_fmt='.3f',\n",
    "    hist_kwargs={\"linewidth\": 2.5},levels=[(1-np.exp(-0.5)),(1-np.exp(-2)),(1-np.exp(-4.5))]\n",
    ");\n",
    "\n",
    "#plt.show()\n",
    "plt.savefig('Transspec_Cornerspots.pdf')"
   ]
  },
  {
   "cell_type": "code",
   "execution_count": null,
   "metadata": {},
   "outputs": [],
   "source": [
    "#np.save('transspec'+str(num)+'_chain.npy', np.array(sampler.chain))\n",
    "#np.save('transspec'+str(num)+'_prob.npy', np.array(sampler.lnprobability))\n",
    "#np.save('transspec'+str(num)+'_accept.npy',np.array(sampler.acceptance_fraction))"
   ]
  },
  {
   "cell_type": "code",
   "execution_count": null,
   "metadata": {},
   "outputs": [],
   "source": [
    "fig, axes = plt.subplots(ndim, figsize=(10, 7), sharex=True)\n",
    "samples = sampler.get_chain(discard=burn)\n",
    "for i in range(ndim):\n",
    "    ax = axes[i]\n",
    "    ax.plot(samples[:, :, i], \"k\", alpha=0.3)\n",
    "    ax.set_xlim(0, len(samples))\n",
    "    ax.set_ylabel(labels[i])\n",
    "    ax.yaxis.set_label_coords(-0.1, 0.5)\n",
    "\n",
    "axes[-1].set_xlabel(\"step number\");\n",
    "#plt.show()\n",
    "plt.savefig('Transspec_Walkers.pdf')"
   ]
  },
  {
   "cell_type": "code",
   "execution_count": null,
   "metadata": {},
   "outputs": [],
   "source": [
    "from IPython.display import display, Math\n",
    "labels = [r'f_{S}\\ (\\%)',r'T_{\\rm{spot}}\\ (K)','D (\\%)']\n",
    "for i in range(ndim):\n",
    "    mcmc = np.percentile(flat_samples[:, i], [16, 50, 84])\n",
    "    q = np.diff(mcmc)\n",
    "    txt = \"{{{3}}} = {0:.3f}_{{-{1:.3f}}}^{{+{2:.3f}}}\"\n",
    "    if i == 1:\n",
    "        txt = \"\\mathrm{{{3}}} = {0:.0f}_{{-{1:.0f}}}^{{+{2:.0f}}}\"\n",
    "    txt = txt.format(mcmc[1], q[0], q[1], labels[i])\n",
    "    display(Math(txt))"
   ]
  },
  {
   "cell_type": "code",
   "execution_count": null,
   "metadata": {},
   "outputs": [],
   "source": [
    "from scipy import integrate\n",
    "## get out the wavelengths for each:\n",
    "star = getspec(modelteff,modelspectra,3470)\n",
    "\n",
    "leffs = []\n",
    "for i in range(0,np.size(filters)):\n",
    "    filt = filters[i]\n",
    "    if hasattr(filt,'wl'):\n",
    "        fw = filt.wl\n",
    "        tm = filt.tm\n",
    "    else:\n",
    "        fw = np.arange(filt.wl_min,filt.wl_max,1)\n",
    "        tm = fw*0+1.\n",
    "    interpfunc = interpolate.interp1d(modelwave, star, kind='linear')\n",
    "    interpolflux = interpfunc(fw)\n",
    "    leff = np.sum(integrate.cumtrapz(fw*tm*interpolflux,fw))/np.sum(integrate.cumtrapz(tm*interpolflux,fw))\n",
    "    print(filt.name,leff)\n",
    "    leffs.append(leff)"
   ]
  },
  {
   "cell_type": "code",
   "execution_count": null,
   "metadata": {},
   "outputs": [],
   "source": [
    "fS = np.percentile(flat_samples[:, 0],[50])/100.\n",
    "Tspot = np.percentile(flat_samples[:, 1],[50])\n",
    "D = np.percentile(flat_samples[:, 2],[50])/100.\n",
    "spot = getspec(modelteff,modelspectra,Tspot)\n",
    "surf = star\n",
    "star = surf*(1.-fS) + spot*fS\n",
    "outoftransit = star\n",
    "intransit = (surf-surf*(D/(1.-fS)))*(1.-fS) + spot*fS\n",
    "transit = (outoftransit-intransit)/outoftransit\n",
    "print(fS,Tspot,D)"
   ]
  },
  {
   "cell_type": "code",
   "execution_count": null,
   "metadata": {},
   "outputs": [],
   "source": [
    "## read in some data\n",
    "depth, errp, errm = np.loadtxt('bins_result_run46.dat',unpack=True,skiprows=1)"
   ]
  },
  {
   "cell_type": "code",
   "execution_count": null,
   "metadata": {},
   "outputs": [],
   "source": [
    "import matplotlib.ticker\n",
    "fig, ax = plt.subplots()\n",
    "fig.set_size_inches(7, 3.5)\n",
    "\n",
    "leffs = np.array(leffs)\n",
    "plt.errorbar(leffs/10000, depth, yerr=[errm,errp], fmt='o',label='Data')\n",
    "plt.plot(modelwave/10000,transit,label='Spotted model',alpha=0.7)\n",
    "plt.xscale('log')\n",
    "plt.xticks([0.6, 0.9, 1.3, 2.0, 3.1, 4.6],labels=['0.6', '0.9', '1.1','2.0', '3.1', '4.6'])\n",
    "plt.xticks([0.5, 1.1, 1.7, 2.3, 2.9, 3.5, 4.1, 4.7],labels=['0.5', '1.1', '1.7', '2.3', '2.9', '3.5', '4.1', '4.7'])\n",
    "#locs, labels = plt.xticks() \n",
    "ax.set_ylabel(r'Transit Depth $(R_p/R_*)^2$')\n",
    "ax.set_xlabel(r'Wavelength ($\\mu m$)')\n",
    "plt.legend()\n",
    "ax.set_xlim(0.5,4.9)\n",
    "ax.set_ylim(0.0008,0.0035)\n",
    "plt.gca().xaxis.set_minor_formatter(matplotlib.ticker.NullFormatter())\n",
    "plt.tight_layout()\n",
    "#ax.set_aspect(200.0)\n",
    "plt.savefig('Transspec_spots.pdf')\n",
    "\n"
   ]
  },
  {
   "cell_type": "code",
   "execution_count": null,
   "metadata": {},
   "outputs": [],
   "source": []
  }
 ],
 "metadata": {
  "kernelspec": {
   "display_name": "Python 3",
   "language": "python",
   "name": "python3"
  },
  "language_info": {
   "codemirror_mode": {
    "name": "ipython",
    "version": 3
   },
   "file_extension": ".py",
   "mimetype": "text/x-python",
   "name": "python",
   "nbconvert_exporter": "python",
   "pygments_lexer": "ipython3",
   "version": "3.7.6"
  }
 },
 "nbformat": 4,
 "nbformat_minor": 4
}
