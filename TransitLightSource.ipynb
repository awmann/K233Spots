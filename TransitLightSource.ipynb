{
 "cells": [
  {
   "cell_type": "markdown",
   "metadata": {},
   "source": [
    "This code should do the following:<br>\n",
    "XXX&nbsp;  1) Take an input temperature and spew back a model spectrum<br>\n",
    "XXX&nbsp; 2) Take two spectra and compute relevant flux contribution from each, given a filter profile<br>\n",
    "XXX&nbsp;     3) Compute the adjusted transit depth assuming unocculted spots with the properties above<br>\n",
    "XXX&nbsp;     4) Take a model transmission spectrum, adjust it according to two parameters:<br>\n",
    "XXX&nbsp; &nbsp;         Spot Teff (converted to contrast using 1-3)<br>\n",
    " &nbsp; &nbsp;        Spot coverage<br>\n",
    "XXX&nbsp;     5) Compare that model transmission spectrum to observed data inside emcee. <br>\n",
    "&nbsp;     6) Make work with non-symmetric errors\n",
    "\n",
    "Additional component (Jan 30):\n",
    "nbsp; In the first iteration, I locked the warm region of the star to a fixed temperature. This is only true if fS is small. What I should do is force it to a value the resulting optical spectrum yields the correct answer (since that is how we measure Teff). This is a small effect, because the optical is dominated by the warm region (Wein tail is steep), but it's not too hard to fix so let's just add it in. \n",
    "  "
   ]
  },
  {
   "cell_type": "code",
   "execution_count": 7,
   "metadata": {},
   "outputs": [],
   "source": [
    "from scipy import interpolate\n",
    "import matplotlib.pyplot as plt\n",
    "import numpy as np\n",
    "from astropy.coordinates import SkyCoord\n",
    "from astropy.timeseries import LombScargle\n",
    "import astropy.units as u\n",
    "import healpy as hp\n",
    "from lightkurve import search_lightcurvefile\n",
    "from emcee import EnsembleSampler\n",
    "from multiprocessing import Pool\n",
    "from corner import corner\n",
    "from astropy.io import fits\n",
    "from ldtk import LDPSetCreator, BoxcarFilter, TabulatedFilter\n",
    "from multiprocessing import Pool\n",
    "from scipy import stats\n",
    "import numpy.random as random\n",
    "from scipy import optimize\n",
    "import emcee\n",
    "import corner\n",
    "import random\n",
    "from gaussfold import gaussfold as gf\n",
    "\n",
    "import multiprocessing as mp\n",
    "Pool = mp.get_context('fork').Pool"
   ]
  },
  {
   "cell_type": "code",
   "execution_count": 8,
   "metadata": {},
   "outputs": [],
   "source": [
    "plt.rcParams['lines.linewidth']   =3\n",
    "plt.rcParams['axes.linewidth']    = 2\n",
    "plt.rcParams['xtick.major.width'] =2\n",
    "plt.rcParams['ytick.major.width'] =2\n",
    "plt.rcParams['ytick.labelsize'] = 11\n",
    "plt.rcParams['xtick.labelsize'] = 11\n",
    "plt.rcParams['axes.labelsize'] = 15\n",
    "plt.rcParams['legend.numpoints'] = 1\n",
    "plt.rcParams['axes.labelweight']='semibold'\n",
    "plt.rcParams['mathtext.fontset']='stix'\n",
    "plt.rcParams['font.weight'] = 'semibold'\n",
    "plt.rcParams['axes.titleweight']='semibold'\n",
    "plt.rcParams['axes.titlesize']=9"
   ]
  },
  {
   "cell_type": "code",
   "execution_count": 9,
   "metadata": {},
   "outputs": [
    {
     "name": "stdout",
     "output_type": "stream",
     "text": [
      "12 CPUs\n"
     ]
    }
   ],
   "source": [
    "import multiprocessing\n",
    "import os\n",
    "from multiprocessing import Pool\n",
    "os.environ[\"OMP_NUM_THREADS\"] = \"1\"\n",
    "from multiprocessing import cpu_count\n",
    "\n",
    "ncpu = cpu_count()\n",
    "print(\"{0} CPUs\".format(ncpu))"
   ]
  },
  {
   "cell_type": "code",
   "execution_count": 10,
   "metadata": {},
   "outputs": [],
   "source": [
    "def to_str(var):\n",
    "    if type(var) is list:\n",
    "        return str(var)[1:-1] # list\n",
    "    if type(var) is np.ndarray:\n",
    "        try:\n",
    "            return str(list(var[0]))[1:-1] # numpy 1D array\n",
    "        except TypeError:\n",
    "            return str(list(var))[1:-1] # numpy sequence\n",
    "    return str(var) # everything else"
   ]
  },
  {
   "cell_type": "code",
   "execution_count": 11,
   "metadata": {},
   "outputs": [
    {
     "name": "stdout",
     "output_type": "stream",
     "text": [
      "Filename: /Users/andrewmann/Dropbox/Radii/Models_CIFIST_Dupuy.fits\n",
      "No.    Name      Ver    Type      Cards   Dimensions   Format\n",
      "  0  PRIMARY       1 PrimaryHDU       4   ()      \n",
      "  1                1 BinTableHDU     36   1R x 7C   [3760A, 44252296E, 296E, 296E, 296E, 296E, 296E]   \n",
      "500.0 3900.0\n",
      "[['SIMPLE  =                    T / Written by IDL:  Sun Apr 17 10:22:04 2016'\n",
      "  'BITPIX  =                  -32 / Number of bits per data pixel'\n",
      "  'NAXIS   =                    2 / Number of data axes'\n",
      "  'NAXIS1  =                  296 /' 'NAXIS2  =               149501 /'\n",
      "  \"DATE    = '2016-04-17'         / Creation UTC (CCCC-MM-DD) date of FITS header\"\n",
      "  'NMODEL  =                  296 /number of models'\n",
      "  'NLAMBDA =               149501 /number of wavelengths'\n",
      "  'LAMBDA_0=              1000.00 /starting wavelength in Angstroms'\n",
      "  'D_LAMBDA=              2.00000 /increment in Angstroms'\n",
      "  \"COMMENT FITS (Flexible Image Transport System) format is defined in 'Astronomy\"\n",
      "  \"COMMENT and Astrophysics', volume 376, page 359; bibcode 2001A&A...376..359H\"\n",
      "  'END' '' '' '' '' '' '' '' '' '' '' '' '' '' '' '' '' '' '' '' '' '' ''\n",
      "  '' '' '' '' '' '' '' '' '' '' '' '']]\n"
     ]
    }
   ],
   "source": [
    "#modelpath = '/Users/andrewmann/Dropbox/Radii/Models_CIFIST_Aug2013_filler.fits'\n",
    "modelpath = '/Users/andrewmann/Dropbox/Radii/Models_CIFIST_Dupuy.fits'\n",
    "hdul = fits.open(modelpath)\n",
    "hdul.info()\n",
    "hdr = hdul[1].header\n",
    "data = hdul[1].data\n",
    "\n",
    "print(np.min(data['teff']),np.max(data['teff']))\n",
    "print(data['header'])"
   ]
  },
  {
   "cell_type": "code",
   "execution_count": 12,
   "metadata": {},
   "outputs": [
    {
     "name": "stdout",
     "output_type": "stream",
     "text": [
      "(24,) (10400, 24) (10400,)\n",
      "3900.0 1600.0\n"
     ]
    }
   ],
   "source": [
    "## trim the models to just solar metallicity \n",
    "\n",
    "teff = np.squeeze(data['teff'])\n",
    "logg = np.squeeze(data['logg'])\n",
    "afe = np.squeeze(data['a_fe'])\n",
    "mh = np.squeeze(data['metal'])\n",
    "spectra = np.squeeze(data['spectrum'])\n",
    "\n",
    "#for i,j,k,l in zip(teff,logg,afe,mh):\n",
    "#    print(i,j,k,l)\n",
    "\n",
    "loc = np.where((logg == 4.5) & (mh == 0) & (teff > 1500) & (afe == 0))\n",
    "modelteff = teff[loc]\n",
    "modelspectra = np.squeeze(spectra[:,loc])\n",
    "lambda0 = 1000\n",
    "nlambda = 149501\n",
    "dlambda = 2\n",
    "modelwave = np.linspace(lambda0,lambda0+nlambda*dlambda,num=nlambda)\n",
    "\n",
    "ll = np.where((modelwave > 3400) & (modelwave < 53000))\n",
    "modelspectra = np.squeeze(modelspectra[ll,:])\n",
    "modelwave = modelwave[ll]\n",
    "lambda0 = 3000\n",
    "nlambda = int((55000-3000)/5)\n",
    "dlambda = 5\n",
    "## resample model spectra\n",
    "newlambda = np.linspace(lambda0,lambda0+nlambda*dlambda,num=nlambda)\n",
    "newmodel = np.zeros((np.size(newlambda),np.size(modelteff)))\n",
    "for i in range(0,np.size(modelteff)):\n",
    "    tmp = np.array(modelspectra[:,i])\n",
    "    interpfunc = interpolate.interp1d(modelwave, tmp, kind='linear',fill_value=\"extrapolate\")\n",
    "    modelspec_new = interpfunc(newlambda)\n",
    "    modelspec_new = gf(newlambda, modelspec_new, 5)\n",
    "    newmodel[:,i] = modelspec_new\n",
    "\n",
    "modelwave = newlambda\n",
    "modelspectra = newmodel\n",
    "\n",
    "print(np.shape(modelteff),np.shape(modelspectra),np.shape(modelwave))\n",
    "print(np.max(modelteff),np.min(modelteff))"
   ]
  },
  {
   "cell_type": "code",
   "execution_count": 13,
   "metadata": {},
   "outputs": [],
   "source": [
    "def getspec(teffs,spectra, inteff): ##  for now other parameters are fixed\n",
    "    loc = np.where(teffs == inteff)\n",
    "    #print(loc,teffs[loc])\n",
    "    #if np.size(loc) < 1:\n",
    "    ## interpolate\n",
    "    #above = np.min(np.where((logg == 4.5) & (afe == 0) & (mh == 0) & (teff > inteff)))\n",
    "    #below = np.max(np.where((logg == 4.5) & (afe == 0) & (mh == 0) & (teff < inteff)))\n",
    "    above = np.min(np.where(teffs >= inteff))\n",
    "    below = np.max(np.where(teffs < inteff))\n",
    "    spec1 = np.squeeze(spectra[:,above])\n",
    "    spec2 = np.squeeze(spectra[:,below])\n",
    "    weight = (inteff-teffs[below])/(teffs[above]-teffs[below])\n",
    "    spec = (1.-weight)*spec2 + weight*spec1\n",
    "    #else:\n",
    "    #    spec = np.squeeze(spectra[:,loc])\n",
    "    return(spec)"
   ]
  },
  {
   "cell_type": "code",
   "execution_count": 14,
   "metadata": {},
   "outputs": [
    {
     "data": {
      "image/png": "[encoded data removed]",
      "text/plain": [
       "<Figure size 432x288 with 1 Axes>"
      ]
     },
     "metadata": {
      "needs_background": "light"
     },
     "output_type": "display_data"
    }
   ],
   "source": [
    "spec1 = getspec(modelteff,modelspectra,2930)\n",
    "spec2 = getspec(modelteff,modelspectra,2920)\n",
    "spec3 = getspec(modelteff,modelspectra,2910)\n",
    "plt.plot(modelwave,spec1,label='3030')\n",
    "plt.plot(modelwave,spec2,label='2940')\n",
    "plt.plot(modelwave,spec3,label='2910')\n",
    "plt.xlim(4000,20000)\n",
    "plt.legend()\n",
    "plt.show()"
   ]
  },
  {
   "cell_type": "code",
   "execution_count": 15,
   "metadata": {},
   "outputs": [],
   "source": [
    "from scipy import interpolate\n",
    "\n",
    "def convolve_filter(w,s,fw,ft):\n",
    "    interpfunc = interpolate.interp1d(w, s, kind='linear')\n",
    "    interpolflux = interpfunc(fw)\n",
    "    flux = np.sum(ft*interpolflux)\n",
    "    return(flux)"
   ]
  },
  {
   "cell_type": "code",
   "execution_count": 16,
   "metadata": {},
   "outputs": [
    {
     "name": "stdout",
     "output_type": "stream",
     "text": [
      "HST2\n",
      "dict_keys(['name', 'wl_min', 'wl_max'])\n"
     ]
    },
    {
     "data": {
      "text/plain": [
       "True"
      ]
     },
     "execution_count": 16,
     "metadata": {},
     "output_type": "execute_result"
    },
    {
     "data": {
      "image/png": "[encoded data removed]",
      "text/plain": [
       "<Figure size 432x288 with 1 Axes>"
      ]
     },
     "metadata": {
      "needs_background": "light"
     },
     "output_type": "display_data"
    }
   ],
   "source": [
    "x,y = np.genfromtxt('filters/mearth.tsv', delimiter=';', unpack=True)\n",
    "x*=10\n",
    "plt.plot(x,y, label='MEarth')\n",
    "mearth = TabulatedFilter('mearth', x[np.isfinite(y)], y[np.isfinite(y)])\n",
    "\n",
    "x, y = np.genfromtxt('filters/pstr-zs-avg.txt', unpack=True)\n",
    "x*=10\n",
    "plt.plot(x,y, label='zs')\n",
    "zs = TabulatedFilter('zs', x[np.isfinite(y)], y[np.isfinite(y)])\n",
    "\n",
    "x, y = np.genfromtxt('filters/tess-response-function-v1.0.csv', unpack=True, comments='#', delimiter=',')\n",
    "x*=10\n",
    "plt.plot(x,y, label='tess')\n",
    "tess = TabulatedFilter('tess', x[np.isfinite(y)], y[np.isfinite(y)])\n",
    "\n",
    "x, y = np.genfromtxt('filters/080924ch1trans_full.txt', unpack=True, comments='#', delimiter=',')\n",
    "x*=10000\n",
    "plt.plot(x,y, label='Sp1')\n",
    "s1 = TabulatedFilter('S1', x[np.isfinite(y)], y[np.isfinite(y)])\n",
    "\n",
    "x, y = np.genfromtxt('filters/080924ch2trans_full.txt', unpack=True, comments='#', delimiter=',')\n",
    "x*=10000\n",
    "plt.plot(x,y, label='Sp2')\n",
    "s2 = TabulatedFilter('S2', x[np.isfinite(y)], y[np.isfinite(y)])\n",
    "\n",
    "x,y = np.genfromtxt('filters/Kepler_Kepler.K.dat', unpack=True, comments='#', delimiter=',')\n",
    "#x/=10\n",
    "plt.plot(x,y, label='Kepler')\n",
    "kepler = TabulatedFilter('Kepler', x[np.isfinite(y)], y[np.isfinite(y)])\n",
    "\n",
    "x,y = np.genfromtxt('filters/HST_WFC3_IR.G141.dat', unpack=True, comments='#', delimiter=' ')\n",
    "#x/=10\n",
    "plt.plot(x,y, label='G141')\n",
    "G141 = TabulatedFilter('G141', x[np.isfinite(y)], y[np.isfinite(y)])\n",
    "\n",
    "## HST bands\n",
    "b1 = [11108,11416,11709,11988,12257,12522,12791,13058,13321,13586,13860,14140,14425,14719,15027,15345,15682,16042]\n",
    "b2 = [11416,11709,11988,12257,12522,12791,13058,13321,13586,13860,14140,14425,14719,15027,15345,15682,16042,16432]\n",
    "b1 = [11108,11773.5,12439,13104.5,13770,14435.5,15101,15766.5]\n",
    "b2 = [11773.5,12439,13104.5,13770,14435.5,15101,15766.5,16432]\n",
    "nbins = 8\n",
    "tmp = np.linspace(10880,16800,nbins+1)\n",
    "b1 = np.round(tmp[0:nbins])\n",
    "b2 = np.round(tmp[1:nbins+1])\n",
    "b1_num = np.array(b1)#/10\n",
    "b2_num = np.array(b2)#/10\n",
    "HST_bands = []\n",
    "hst_names = np.array(b1,dtype=str)\n",
    "for i in range(0,np.size(b1)):\n",
    "    str1 = (to_str(round(b1[i])))\n",
    "    str2 = (to_str(round(b2[i])))\n",
    "    hst_names[i] = str(str1)+'--'+str(str2)         \n",
    "counter = 1\n",
    "for i,j in zip(b1_num,b2_num):\n",
    "    HST_bands.append(BoxcarFilter('HST'+str(counter),i,j))\n",
    "    counter=counter+1\n",
    "\n",
    "    \n",
    "#print(HST_bands)\n",
    "filters = HST_bands\n",
    "filters.append(mearth)\n",
    "filters.append(kepler)\n",
    "filters.append(s1)\n",
    "filters.append(s2)\n",
    "print(filters[1].name)\n",
    "fnames = []\n",
    "for i in range(0,np.size(filters)):\n",
    "    fnames = np.append(fnames,filters[i].name)\n",
    "## wl (double-u el) and tm\n",
    "filters[10].__dict__.keys()\n",
    "#filters[0].name\n",
    "#names\n",
    "#print(G141.tm)\n",
    "inc = np.squeeze(np.where(fnames == 'HST1'))\n",
    "print(filters[inc].__dict__.keys())\n",
    "hasattr(filters[inc],'wl_max')"
   ]
  },
  {
   "cell_type": "code",
   "execution_count": 17,
   "metadata": {},
   "outputs": [],
   "source": [
    "## given depth (D), spot fraction (fS), and two spectra, compute the adjusted transit depth\n",
    "def depth_adjust(filt,D,fS,wav,surf,spot):\n",
    "    star = surf*(1.-fS) + spot*fS\n",
    "    outoftransit = star\n",
    "    intransit = (surf-surf*(D/(1.-fS)))*(1.-fS) + spot*fS\n",
    "    transit = (outoftransit-intransit)/outoftransit\n",
    "    if hasattr(filt,'wl'):\n",
    "        wl = filt.wl\n",
    "        tm = filt.tm\n",
    "    else:\n",
    "        wl = np.arange(filt.wl_min,filt.wl_max,1)\n",
    "        tm = wl*0+1.\n",
    "    #plt.plot(wav,transit)\n",
    "    #plt.xlim(np.min(wl),np.max(wl))\n",
    "    #plt.ylim(D*0.99,D*1.2)\n",
    "    #plt.show()\n",
    "    outoftransit_flux = convolve_filter(wav,outoftransit,wl,tm)\n",
    "    intransit_flux = convolve_filter(wav,intransit,wl,tm)\n",
    "    #measured = convolve_filter(wav,transit,wl,tm)\n",
    "    #outoftransit_flux = convolve_filter(wav,outoftransit,wl,tm)\n",
    "    #intransit_flux = convolve_filter(wav,intransit,wl,tm)\n",
    "    newD = (outoftransit_flux-intransit_flux)/outoftransit_flux\n",
    "    return(newD)"
   ]
  },
  {
   "cell_type": "code",
   "execution_count": 18,
   "metadata": {},
   "outputs": [
    {
     "name": "stdout",
     "output_type": "stream",
     "text": [
      "12\n",
      "HST1 0.0014607565947102987\n",
      "HST2 0.001451355092105609\n",
      "HST3 0.0014452159313712752\n",
      "HST4 0.0014639922168472885\n",
      "HST5 0.0014866355098634874\n",
      "HST6 0.001487824571936077\n",
      "HST7 0.0014801503465334215\n",
      "HST8 0.001463112557192461\n",
      "mearth 0.001559682373295243\n",
      "Kepler 0.0016627664913565897\n",
      "S1 0.0014251337546970697\n",
      "S2 0.0013967117418080043\n"
     ]
    }
   ],
   "source": [
    "star = getspec(modelteff,modelspectra,3540)\n",
    "spot = getspec(modelteff,modelspectra,3200)\n",
    "\n",
    "fSpot = 0.4\n",
    "Depth = 0.0013\n",
    "print(np.size(filters))\n",
    "model_depths = []\n",
    "for i in range(0,np.size(filters)):\n",
    "    filt = filters[i]\n",
    "    newD = depth_adjust(filt,Depth,fSpot,modelwave,star,spot)\n",
    "    print(filt.name,newD)\n",
    "    model_depths.append(newD)\n",
    "# inc = np.squeeze(np.where(fnames == 'tess'))\n",
    "# wl = filters[inc].wl\n",
    "# tm = filters[inc].tm\n",
    "# star2 = star*5\n",
    "# t3 = convolve_filter(wave,spot,wl,tm)\n",
    "# t2 = convolve_filter(wave,star,wl,tm)\n",
    "# t1 = convolve_filter(wave,star2,wl,tm)\n",
    "# print(t3,t2,t1)\n",
    "\n",
    "# interpfunc1 = interpolate.interp1d(wave, star, kind='linear')\n",
    "# interpfunc2 = interpolate.interp1d(wave, star2, kind='linear')\n",
    "# match1 = interpfunc1(wl)\n",
    "# match2 = interpfunc2(wl)\n",
    "# plt.plot(wave,star)\n",
    "# plt.plot(wl,match1)\n",
    "# plt.plot(wl,match2)\n",
    "# print(np.sum(tm*match1))\n",
    "# print(np.sum(tm*match2))\n",
    "# plt.xlim(5000,11000)\n",
    "# plt.show()"
   ]
  },
  {
   "cell_type": "code",
   "execution_count": 19,
   "metadata": {},
   "outputs": [],
   "source": [
    "## read in some data\n",
    "depth, err = np.loadtxt('bins_result_run46.dat',unpack=True,skiprows=1)"
   ]
  },
  {
   "cell_type": "code",
   "execution_count": 20,
   "metadata": {},
   "outputs": [],
   "source": [
    "#define functions for MCMC\n",
    "def ln_prior(theta):\n",
    "    fS, Tspot, D = theta\n",
    "    if fS < 0.0 or fS > 1 or Tspot < 1500 or Tspot > 3800 or D < 0 or D > 1:\n",
    "        return -np.inf\n",
    "    return 0\n",
    "\n",
    "def ln_likelihood(theta, depth_obs, depth_err, filters, star, modelteff,modelspectra, swave):\n",
    "    fS, Tspot, D = theta\n",
    "    spot = getspec(modelteff,modelspectra,Tspot)\n",
    "    \n",
    "    depth_model = []\n",
    "    for filt in filters:\n",
    "        newD = depth_adjust(filt,D,fS,swave,star,spot)\n",
    "        depth_model.append(newD)\n",
    "\n",
    "    s_squared = np.square(depth_err)\n",
    "    p = (1. / np.sqrt(2 * np.pi * s_squared)) * np.exp(-np.square(depth_obs - depth_model) / (2 * s_squared)) \n",
    "    output = np.sum(np.log(p))\n",
    "    return output\n",
    "\n",
    "\n",
    "def ln_posterior(theta, depth_obs, depth_err, filters, star, modelteff,modelspectra, swave):\n",
    "    ln_p = ln_prior(theta)\n",
    "    if not np.isfinite(ln_p):\n",
    "        return -np.inf\n",
    "    ln_like = ln_likelihood(theta, depth_obs, depth_err, filters, star, modelteff,modelspectra, swave)\n",
    "    if not np.isfinite(ln_like):\n",
    "        return -np.inf\n",
    "    return ln_p + ln_like"
   ]
  },
  {
   "cell_type": "code",
   "execution_count": 21,
   "metadata": {},
   "outputs": [
    {
     "name": "stdout",
     "output_type": "stream",
     "text": [
      "if this is inf, we have a problem:\n",
      "76.80557957021429\n"
     ]
    }
   ],
   "source": [
    "nwalkers, ndim = 16, 3\n",
    "nthreads = 12\n",
    "initial_guesses = [0.6, 2900, 0.001]\n",
    "star = getspec(modelteff,modelspectra,3470)\n",
    "print('if this is inf, we have a problem:')\n",
    "print(ln_posterior(initial_guesses,depth,err,filters,star,modelteff,modelspectra,modelwave))\n",
    "pos0 = [initial_guesses*(1+0.01*np.random.randn(ndim)) for i in range(nwalkers)]"
   ]
  },
  {
   "cell_type": "code",
   "execution_count": 22,
   "metadata": {
    "scrolled": true
   },
   "outputs": [
    {
     "name": "stderr",
     "output_type": "stream",
     "text": [
      "  7%|▋         | 724/10000 [00:44<10:15, 15.08it/s]Traceback (most recent call last):\n",
      "  File \"/Users/andrewmann/anaconda3/lib/python3.7/site-packages/emcee/ensemble.py\", line 545, in __call__\n",
      "    return self.f(x, *self.args, **self.kwargs)\n",
      "  File \"<ipython-input-20-1b92074d2593>\", line 27, in ln_posterior\n",
      "    ln_like = ln_likelihood(theta, depth_obs, depth_err, filters, star, modelteff,modelspectra, swave)\n",
      "  File \"<ipython-input-20-1b92074d2593>\", line 10, in ln_likelihood\n",
      "    spot = getspec(modelteff,modelspectra,Tspot)\n",
      "  File \"<ipython-input-13-b63927d1271c>\", line 9, in getspec\n",
      "    below = np.max(np.where(teffs < inteff))\n",
      "  File \"<__array_function__ internals>\", line 6, in amax\n",
      "  File \"/Users/andrewmann/anaconda3/lib/python3.7/site-packages/numpy/core/fromnumeric.py\", line 2706, in amax\n",
      "    keepdims=keepdims, initial=initial, where=where)\n",
      "  File \"/Users/andrewmann/anaconda3/lib/python3.7/site-packages/numpy/core/fromnumeric.py\", line 87, in _wrapreduction\n",
      "    return ufunc.reduce(obj, axis, dtype, out, **passkwargs)\n",
      "ValueError: zero-size array to reduction operation maximum which has no identity\n",
      "  7%|▋         | 724/10000 [00:45<09:36, 16.09it/s]\n"
     ]
    },
    {
     "name": "stdout",
     "output_type": "stream",
     "text": [
      "emcee: Exception while calling your likelihood function:\n",
      "  params: [7.19911381e-01 1.52376928e+03 3.79963546e-04]\n",
      "  args: (array([0.00165112, 0.00138645, 0.00098227, 0.00130481, 0.00141751,\n",
      "       0.0010826 , 0.00139792, 0.00165971, 0.0024    , 0.002243  ,\n",
      "       0.001269  , 0.001248  ]), array([2.88777404e-04, 2.42851610e-04, 1.90667981e-04, 1.70078975e-04,\n",
      "       2.08911749e-04, 1.98780576e-04, 2.19549193e-04, 1.98628538e-04,\n",
      "       2.60000000e-04, 9.80000000e-05, 5.30000000e-05, 5.20000000e-05]), [<ldtk.filters.BoxcarFilter object at 0x7fb8ea6e3c90>, <ldtk.filters.BoxcarFilter object at 0x7fb8ea6e3ed0>, <ldtk.filters.BoxcarFilter object at 0x7fb8ea6e3110>, <ldtk.filters.BoxcarFilter object at 0x7fb8ea6e3610>, <ldtk.filters.BoxcarFilter object at 0x7fb8ea6e3590>, <ldtk.filters.BoxcarFilter object at 0x7fb8ea6e3450>, <ldtk.filters.BoxcarFilter object at 0x7fb8ea6e3490>, <ldtk.filters.BoxcarFilter object at 0x7fb8ea6e3410>, <ldtk.filters.TabulatedFilter object at 0x7fb8eac24c50>, <ldtk.filters.TabulatedFilter object at 0x7fb8eabbeb10>, <ldtk.filters.TabulatedFilter object at 0x7fb8eabb7e90>, <ldtk.filters.TabulatedFilter object at 0x7fb8eabbe790>], array([-378398.54568371, -705354.83344125, -701580.44745576, ...,\n",
      "       -122667.26260956, -122049.87277846,  -65009.84953045]), array([1600., 1700., 1800., 1900., 2000., 2100., 2200., 2300., 2400.,\n",
      "       2500., 2600., 2700., 2800., 2900., 3000., 3100., 3200., 3300.,\n",
      "       3400., 3500., 3600., 3700., 3800., 3900.], dtype=float32), array([[-6.54464743e-05, -7.76530843e-04, -4.06720759e-02, ...,\n",
      "        -6.90795075e+05, -9.14072174e+05, -1.18805044e+06],\n",
      "       [-1.21613258e-04, -1.43417592e-03, -7.56894932e-02, ...,\n",
      "        -1.28770059e+06, -1.70393678e+06, -2.21469200e+06],\n",
      "       [-1.20402811e-04, -1.40700936e-03, -7.51009468e-02, ...,\n",
      "        -1.28084247e+06, -1.69490392e+06, -2.20299238e+06],\n",
      "       ...,\n",
      "       [ 1.71486801e+05,  1.92813409e+05,  1.92960686e+05, ...,\n",
      "        -3.65791963e+05, -4.94672459e+05, -5.81060464e+05],\n",
      "       [ 1.70596812e+05,  1.91813433e+05,  1.91960016e+05, ...,\n",
      "        -3.63921602e+05, -4.92137952e+05, -5.78080854e+05],\n",
      "       [ 9.08584651e+04,  1.02158520e+05,  1.02236614e+05, ...,\n",
      "        -1.93831996e+05, -2.62120715e+05, -3.07894394e+05]]), array([ 3000.        ,  3005.00048082,  3010.00096163, ...,\n",
      "       54989.99903837, 54994.99951918, 55000.        ]))\n",
      "  kwargs: {}\n",
      "  exception:\n"
     ]
    },
    {
     "ename": "ValueError",
     "evalue": "zero-size array to reduction operation maximum which has no identity",
     "output_type": "error",
     "traceback": [
      "\u001b[0;31m---------------------------------------------------------------------------\u001b[0m",
      "\u001b[0;31mValueError\u001b[0m                                Traceback (most recent call last)",
      "\u001b[0;32m<ipython-input-22-72fb787f54ac>\u001b[0m in \u001b[0;36m<module>\u001b[0;34m\u001b[0m\n\u001b[1;32m      7\u001b[0m \u001b[0;31m#sampler.run_mcmc(pos0, nsteps,progress=True)\u001b[0m\u001b[0;34m\u001b[0m\u001b[0;34m\u001b[0m\u001b[0;34m\u001b[0m\u001b[0m\n\u001b[1;32m      8\u001b[0m \u001b[0msampler\u001b[0m \u001b[0;34m=\u001b[0m \u001b[0memcee\u001b[0m\u001b[0;34m.\u001b[0m\u001b[0mEnsembleSampler\u001b[0m\u001b[0;34m(\u001b[0m\u001b[0mnwalkers\u001b[0m\u001b[0;34m,\u001b[0m \u001b[0mndim\u001b[0m\u001b[0;34m,\u001b[0m \u001b[0mln_posterior\u001b[0m\u001b[0;34m,\u001b[0m \u001b[0margs\u001b[0m\u001b[0;34m=\u001b[0m\u001b[0;34m(\u001b[0m\u001b[0mdepth\u001b[0m\u001b[0;34m,\u001b[0m\u001b[0merr\u001b[0m\u001b[0;34m,\u001b[0m\u001b[0mfilters\u001b[0m\u001b[0;34m,\u001b[0m\u001b[0mstar\u001b[0m\u001b[0;34m,\u001b[0m\u001b[0mmodelteff\u001b[0m\u001b[0;34m,\u001b[0m\u001b[0mmodelspectra\u001b[0m\u001b[0;34m,\u001b[0m\u001b[0mmodelwave\u001b[0m\u001b[0;34m)\u001b[0m\u001b[0;34m,\u001b[0m \u001b[0mthreads\u001b[0m\u001b[0;34m=\u001b[0m\u001b[0mnthreads\u001b[0m\u001b[0;34m)\u001b[0m\u001b[0;34m\u001b[0m\u001b[0;34m\u001b[0m\u001b[0m\n\u001b[0;32m----> 9\u001b[0;31m \u001b[0msampler\u001b[0m\u001b[0;34m.\u001b[0m\u001b[0mrun_mcmc\u001b[0m\u001b[0;34m(\u001b[0m\u001b[0mpos0\u001b[0m\u001b[0;34m,\u001b[0m \u001b[0mnsteps\u001b[0m\u001b[0;34m,\u001b[0m\u001b[0mprogress\u001b[0m\u001b[0;34m=\u001b[0m\u001b[0;32mTrue\u001b[0m\u001b[0;34m)\u001b[0m\u001b[0;34m\u001b[0m\u001b[0;34m\u001b[0m\u001b[0m\n\u001b[0m\u001b[1;32m     10\u001b[0m \u001b[0;34m\u001b[0m\u001b[0m\n\u001b[1;32m     11\u001b[0m \u001b[0mprint\u001b[0m\u001b[0;34m(\u001b[0m\u001b[0;34m'done'\u001b[0m\u001b[0;34m)\u001b[0m\u001b[0;34m\u001b[0m\u001b[0;34m\u001b[0m\u001b[0m\n",
      "\u001b[0;32m~/anaconda3/lib/python3.7/site-packages/emcee/ensemble.py\u001b[0m in \u001b[0;36mrun_mcmc\u001b[0;34m(self, initial_state, nsteps, **kwargs)\u001b[0m\n\u001b[1;32m    382\u001b[0m \u001b[0;34m\u001b[0m\u001b[0m\n\u001b[1;32m    383\u001b[0m         \u001b[0mresults\u001b[0m \u001b[0;34m=\u001b[0m \u001b[0;32mNone\u001b[0m\u001b[0;34m\u001b[0m\u001b[0;34m\u001b[0m\u001b[0m\n\u001b[0;32m--> 384\u001b[0;31m         \u001b[0;32mfor\u001b[0m \u001b[0mresults\u001b[0m \u001b[0;32min\u001b[0m \u001b[0mself\u001b[0m\u001b[0;34m.\u001b[0m\u001b[0msample\u001b[0m\u001b[0;34m(\u001b[0m\u001b[0minitial_state\u001b[0m\u001b[0;34m,\u001b[0m \u001b[0miterations\u001b[0m\u001b[0;34m=\u001b[0m\u001b[0mnsteps\u001b[0m\u001b[0;34m,\u001b[0m \u001b[0;34m**\u001b[0m\u001b[0mkwargs\u001b[0m\u001b[0;34m)\u001b[0m\u001b[0;34m:\u001b[0m\u001b[0;34m\u001b[0m\u001b[0;34m\u001b[0m\u001b[0m\n\u001b[0m\u001b[1;32m    385\u001b[0m             \u001b[0;32mpass\u001b[0m\u001b[0;34m\u001b[0m\u001b[0;34m\u001b[0m\u001b[0m\n\u001b[1;32m    386\u001b[0m \u001b[0;34m\u001b[0m\u001b[0m\n",
      "\u001b[0;32m~/anaconda3/lib/python3.7/site-packages/emcee/ensemble.py\u001b[0m in \u001b[0;36msample\u001b[0;34m(self, initial_state, log_prob0, rstate0, blobs0, iterations, tune, skip_initial_state_check, thin_by, thin, store, progress)\u001b[0m\n\u001b[1;32m    341\u001b[0m \u001b[0;34m\u001b[0m\u001b[0m\n\u001b[1;32m    342\u001b[0m                     \u001b[0;31m# Propose\u001b[0m\u001b[0;34m\u001b[0m\u001b[0;34m\u001b[0m\u001b[0;34m\u001b[0m\u001b[0m\n\u001b[0;32m--> 343\u001b[0;31m                     \u001b[0mstate\u001b[0m\u001b[0;34m,\u001b[0m \u001b[0maccepted\u001b[0m \u001b[0;34m=\u001b[0m \u001b[0mmove\u001b[0m\u001b[0;34m.\u001b[0m\u001b[0mpropose\u001b[0m\u001b[0;34m(\u001b[0m\u001b[0mmodel\u001b[0m\u001b[0;34m,\u001b[0m \u001b[0mstate\u001b[0m\u001b[0;34m)\u001b[0m\u001b[0;34m\u001b[0m\u001b[0;34m\u001b[0m\u001b[0m\n\u001b[0m\u001b[1;32m    344\u001b[0m                     \u001b[0mstate\u001b[0m\u001b[0;34m.\u001b[0m\u001b[0mrandom_state\u001b[0m \u001b[0;34m=\u001b[0m \u001b[0mself\u001b[0m\u001b[0;34m.\u001b[0m\u001b[0mrandom_state\u001b[0m\u001b[0;34m\u001b[0m\u001b[0;34m\u001b[0m\u001b[0m\n\u001b[1;32m    345\u001b[0m \u001b[0;34m\u001b[0m\u001b[0m\n",
      "\u001b[0;32m~/anaconda3/lib/python3.7/site-packages/emcee/moves/red_blue.py\u001b[0m in \u001b[0;36mpropose\u001b[0;34m(self, model, state)\u001b[0m\n\u001b[1;32m     91\u001b[0m \u001b[0;34m\u001b[0m\u001b[0m\n\u001b[1;32m     92\u001b[0m             \u001b[0;31m# Compute the lnprobs of the proposed position.\u001b[0m\u001b[0;34m\u001b[0m\u001b[0;34m\u001b[0m\u001b[0;34m\u001b[0m\u001b[0m\n\u001b[0;32m---> 93\u001b[0;31m             \u001b[0mnew_log_probs\u001b[0m\u001b[0;34m,\u001b[0m \u001b[0mnew_blobs\u001b[0m \u001b[0;34m=\u001b[0m \u001b[0mmodel\u001b[0m\u001b[0;34m.\u001b[0m\u001b[0mcompute_log_prob_fn\u001b[0m\u001b[0;34m(\u001b[0m\u001b[0mq\u001b[0m\u001b[0;34m)\u001b[0m\u001b[0;34m\u001b[0m\u001b[0;34m\u001b[0m\u001b[0m\n\u001b[0m\u001b[1;32m     94\u001b[0m \u001b[0;34m\u001b[0m\u001b[0m\n\u001b[1;32m     95\u001b[0m             \u001b[0;31m# Loop over the walkers and update them accordingly.\u001b[0m\u001b[0;34m\u001b[0m\u001b[0;34m\u001b[0m\u001b[0;34m\u001b[0m\u001b[0m\n",
      "\u001b[0;32m~/anaconda3/lib/python3.7/site-packages/emcee/ensemble.py\u001b[0m in \u001b[0;36mcompute_log_prob\u001b[0;34m(self, coords)\u001b[0m\n\u001b[1;32m    425\u001b[0m                 \u001b[0mmap_func\u001b[0m \u001b[0;34m=\u001b[0m \u001b[0mmap\u001b[0m\u001b[0;34m\u001b[0m\u001b[0;34m\u001b[0m\u001b[0m\n\u001b[1;32m    426\u001b[0m             results = list(\n\u001b[0;32m--> 427\u001b[0;31m                 \u001b[0mmap_func\u001b[0m\u001b[0;34m(\u001b[0m\u001b[0mself\u001b[0m\u001b[0;34m.\u001b[0m\u001b[0mlog_prob_fn\u001b[0m\u001b[0;34m,\u001b[0m \u001b[0;34m(\u001b[0m\u001b[0mp\u001b[0m\u001b[0;34m[\u001b[0m\u001b[0mi\u001b[0m\u001b[0;34m]\u001b[0m \u001b[0;32mfor\u001b[0m \u001b[0mi\u001b[0m \u001b[0;32min\u001b[0m \u001b[0mrange\u001b[0m\u001b[0;34m(\u001b[0m\u001b[0mlen\u001b[0m\u001b[0;34m(\u001b[0m\u001b[0mp\u001b[0m\u001b[0;34m)\u001b[0m\u001b[0;34m)\u001b[0m\u001b[0;34m)\u001b[0m\u001b[0;34m)\u001b[0m\u001b[0;34m\u001b[0m\u001b[0;34m\u001b[0m\u001b[0m\n\u001b[0m\u001b[1;32m    428\u001b[0m             )\n\u001b[1;32m    429\u001b[0m \u001b[0;34m\u001b[0m\u001b[0m\n",
      "\u001b[0;32m~/anaconda3/lib/python3.7/site-packages/emcee/ensemble.py\u001b[0m in \u001b[0;36m__call__\u001b[0;34m(self, x)\u001b[0m\n\u001b[1;32m    543\u001b[0m     \u001b[0;32mdef\u001b[0m \u001b[0m__call__\u001b[0m\u001b[0;34m(\u001b[0m\u001b[0mself\u001b[0m\u001b[0;34m,\u001b[0m \u001b[0mx\u001b[0m\u001b[0;34m)\u001b[0m\u001b[0;34m:\u001b[0m\u001b[0;34m\u001b[0m\u001b[0;34m\u001b[0m\u001b[0m\n\u001b[1;32m    544\u001b[0m         \u001b[0;32mtry\u001b[0m\u001b[0;34m:\u001b[0m\u001b[0;34m\u001b[0m\u001b[0;34m\u001b[0m\u001b[0m\n\u001b[0;32m--> 545\u001b[0;31m             \u001b[0;32mreturn\u001b[0m \u001b[0mself\u001b[0m\u001b[0;34m.\u001b[0m\u001b[0mf\u001b[0m\u001b[0;34m(\u001b[0m\u001b[0mx\u001b[0m\u001b[0;34m,\u001b[0m \u001b[0;34m*\u001b[0m\u001b[0mself\u001b[0m\u001b[0;34m.\u001b[0m\u001b[0margs\u001b[0m\u001b[0;34m,\u001b[0m \u001b[0;34m**\u001b[0m\u001b[0mself\u001b[0m\u001b[0;34m.\u001b[0m\u001b[0mkwargs\u001b[0m\u001b[0;34m)\u001b[0m\u001b[0;34m\u001b[0m\u001b[0;34m\u001b[0m\u001b[0m\n\u001b[0m\u001b[1;32m    546\u001b[0m         \u001b[0;32mexcept\u001b[0m\u001b[0;34m:\u001b[0m  \u001b[0;31m# pragma: no cover\u001b[0m\u001b[0;34m\u001b[0m\u001b[0;34m\u001b[0m\u001b[0m\n\u001b[1;32m    547\u001b[0m             \u001b[0;32mimport\u001b[0m \u001b[0mtraceback\u001b[0m\u001b[0;34m\u001b[0m\u001b[0;34m\u001b[0m\u001b[0m\n",
      "\u001b[0;32m<ipython-input-20-1b92074d2593>\u001b[0m in \u001b[0;36mln_posterior\u001b[0;34m(theta, depth_obs, depth_err, filters, star, modelteff, modelspectra, swave)\u001b[0m\n\u001b[1;32m     25\u001b[0m     \u001b[0;32mif\u001b[0m \u001b[0;32mnot\u001b[0m \u001b[0mnp\u001b[0m\u001b[0;34m.\u001b[0m\u001b[0misfinite\u001b[0m\u001b[0;34m(\u001b[0m\u001b[0mln_p\u001b[0m\u001b[0;34m)\u001b[0m\u001b[0;34m:\u001b[0m\u001b[0;34m\u001b[0m\u001b[0;34m\u001b[0m\u001b[0m\n\u001b[1;32m     26\u001b[0m         \u001b[0;32mreturn\u001b[0m \u001b[0;34m-\u001b[0m\u001b[0mnp\u001b[0m\u001b[0;34m.\u001b[0m\u001b[0minf\u001b[0m\u001b[0;34m\u001b[0m\u001b[0;34m\u001b[0m\u001b[0m\n\u001b[0;32m---> 27\u001b[0;31m     \u001b[0mln_like\u001b[0m \u001b[0;34m=\u001b[0m \u001b[0mln_likelihood\u001b[0m\u001b[0;34m(\u001b[0m\u001b[0mtheta\u001b[0m\u001b[0;34m,\u001b[0m \u001b[0mdepth_obs\u001b[0m\u001b[0;34m,\u001b[0m \u001b[0mdepth_err\u001b[0m\u001b[0;34m,\u001b[0m \u001b[0mfilters\u001b[0m\u001b[0;34m,\u001b[0m \u001b[0mstar\u001b[0m\u001b[0;34m,\u001b[0m \u001b[0mmodelteff\u001b[0m\u001b[0;34m,\u001b[0m\u001b[0mmodelspectra\u001b[0m\u001b[0;34m,\u001b[0m \u001b[0mswave\u001b[0m\u001b[0;34m)\u001b[0m\u001b[0;34m\u001b[0m\u001b[0;34m\u001b[0m\u001b[0m\n\u001b[0m\u001b[1;32m     28\u001b[0m     \u001b[0;32mif\u001b[0m \u001b[0;32mnot\u001b[0m \u001b[0mnp\u001b[0m\u001b[0;34m.\u001b[0m\u001b[0misfinite\u001b[0m\u001b[0;34m(\u001b[0m\u001b[0mln_like\u001b[0m\u001b[0;34m)\u001b[0m\u001b[0;34m:\u001b[0m\u001b[0;34m\u001b[0m\u001b[0;34m\u001b[0m\u001b[0m\n\u001b[1;32m     29\u001b[0m         \u001b[0;32mreturn\u001b[0m \u001b[0;34m-\u001b[0m\u001b[0mnp\u001b[0m\u001b[0;34m.\u001b[0m\u001b[0minf\u001b[0m\u001b[0;34m\u001b[0m\u001b[0;34m\u001b[0m\u001b[0m\n",
      "\u001b[0;32m<ipython-input-20-1b92074d2593>\u001b[0m in \u001b[0;36mln_likelihood\u001b[0;34m(theta, depth_obs, depth_err, filters, star, modelteff, modelspectra, swave)\u001b[0m\n\u001b[1;32m      8\u001b[0m \u001b[0;32mdef\u001b[0m \u001b[0mln_likelihood\u001b[0m\u001b[0;34m(\u001b[0m\u001b[0mtheta\u001b[0m\u001b[0;34m,\u001b[0m \u001b[0mdepth_obs\u001b[0m\u001b[0;34m,\u001b[0m \u001b[0mdepth_err\u001b[0m\u001b[0;34m,\u001b[0m \u001b[0mfilters\u001b[0m\u001b[0;34m,\u001b[0m \u001b[0mstar\u001b[0m\u001b[0;34m,\u001b[0m \u001b[0mmodelteff\u001b[0m\u001b[0;34m,\u001b[0m\u001b[0mmodelspectra\u001b[0m\u001b[0;34m,\u001b[0m \u001b[0mswave\u001b[0m\u001b[0;34m)\u001b[0m\u001b[0;34m:\u001b[0m\u001b[0;34m\u001b[0m\u001b[0;34m\u001b[0m\u001b[0m\n\u001b[1;32m      9\u001b[0m     \u001b[0mfS\u001b[0m\u001b[0;34m,\u001b[0m \u001b[0mTspot\u001b[0m\u001b[0;34m,\u001b[0m \u001b[0mD\u001b[0m \u001b[0;34m=\u001b[0m \u001b[0mtheta\u001b[0m\u001b[0;34m\u001b[0m\u001b[0;34m\u001b[0m\u001b[0m\n\u001b[0;32m---> 10\u001b[0;31m     \u001b[0mspot\u001b[0m \u001b[0;34m=\u001b[0m \u001b[0mgetspec\u001b[0m\u001b[0;34m(\u001b[0m\u001b[0mmodelteff\u001b[0m\u001b[0;34m,\u001b[0m\u001b[0mmodelspectra\u001b[0m\u001b[0;34m,\u001b[0m\u001b[0mTspot\u001b[0m\u001b[0;34m)\u001b[0m\u001b[0;34m\u001b[0m\u001b[0;34m\u001b[0m\u001b[0m\n\u001b[0m\u001b[1;32m     11\u001b[0m \u001b[0;34m\u001b[0m\u001b[0m\n\u001b[1;32m     12\u001b[0m     \u001b[0mdepth_model\u001b[0m \u001b[0;34m=\u001b[0m \u001b[0;34m[\u001b[0m\u001b[0;34m]\u001b[0m\u001b[0;34m\u001b[0m\u001b[0;34m\u001b[0m\u001b[0m\n",
      "\u001b[0;32m<ipython-input-13-b63927d1271c>\u001b[0m in \u001b[0;36mgetspec\u001b[0;34m(teffs, spectra, inteff)\u001b[0m\n\u001b[1;32m      7\u001b[0m     \u001b[0;31m#below = np.max(np.where((logg == 4.5) & (afe == 0) & (mh == 0) & (teff < inteff)))\u001b[0m\u001b[0;34m\u001b[0m\u001b[0;34m\u001b[0m\u001b[0;34m\u001b[0m\u001b[0m\n\u001b[1;32m      8\u001b[0m     \u001b[0mabove\u001b[0m \u001b[0;34m=\u001b[0m \u001b[0mnp\u001b[0m\u001b[0;34m.\u001b[0m\u001b[0mmin\u001b[0m\u001b[0;34m(\u001b[0m\u001b[0mnp\u001b[0m\u001b[0;34m.\u001b[0m\u001b[0mwhere\u001b[0m\u001b[0;34m(\u001b[0m\u001b[0mteffs\u001b[0m \u001b[0;34m>=\u001b[0m \u001b[0minteff\u001b[0m\u001b[0;34m)\u001b[0m\u001b[0;34m)\u001b[0m\u001b[0;34m\u001b[0m\u001b[0;34m\u001b[0m\u001b[0m\n\u001b[0;32m----> 9\u001b[0;31m     \u001b[0mbelow\u001b[0m \u001b[0;34m=\u001b[0m \u001b[0mnp\u001b[0m\u001b[0;34m.\u001b[0m\u001b[0mmax\u001b[0m\u001b[0;34m(\u001b[0m\u001b[0mnp\u001b[0m\u001b[0;34m.\u001b[0m\u001b[0mwhere\u001b[0m\u001b[0;34m(\u001b[0m\u001b[0mteffs\u001b[0m \u001b[0;34m<\u001b[0m \u001b[0minteff\u001b[0m\u001b[0;34m)\u001b[0m\u001b[0;34m)\u001b[0m\u001b[0;34m\u001b[0m\u001b[0;34m\u001b[0m\u001b[0m\n\u001b[0m\u001b[1;32m     10\u001b[0m     \u001b[0mspec1\u001b[0m \u001b[0;34m=\u001b[0m \u001b[0mnp\u001b[0m\u001b[0;34m.\u001b[0m\u001b[0msqueeze\u001b[0m\u001b[0;34m(\u001b[0m\u001b[0mspectra\u001b[0m\u001b[0;34m[\u001b[0m\u001b[0;34m:\u001b[0m\u001b[0;34m,\u001b[0m\u001b[0mabove\u001b[0m\u001b[0;34m]\u001b[0m\u001b[0;34m)\u001b[0m\u001b[0;34m\u001b[0m\u001b[0;34m\u001b[0m\u001b[0m\n\u001b[1;32m     11\u001b[0m     \u001b[0mspec2\u001b[0m \u001b[0;34m=\u001b[0m \u001b[0mnp\u001b[0m\u001b[0;34m.\u001b[0m\u001b[0msqueeze\u001b[0m\u001b[0;34m(\u001b[0m\u001b[0mspectra\u001b[0m\u001b[0;34m[\u001b[0m\u001b[0;34m:\u001b[0m\u001b[0;34m,\u001b[0m\u001b[0mbelow\u001b[0m\u001b[0;34m]\u001b[0m\u001b[0;34m)\u001b[0m\u001b[0;34m\u001b[0m\u001b[0;34m\u001b[0m\u001b[0m\n",
      "\u001b[0;32m<__array_function__ internals>\u001b[0m in \u001b[0;36mamax\u001b[0;34m(*args, **kwargs)\u001b[0m\n",
      "\u001b[0;32m~/anaconda3/lib/python3.7/site-packages/numpy/core/fromnumeric.py\u001b[0m in \u001b[0;36mamax\u001b[0;34m(a, axis, out, keepdims, initial, where)\u001b[0m\n\u001b[1;32m   2704\u001b[0m     \"\"\"\n\u001b[1;32m   2705\u001b[0m     return _wrapreduction(a, np.maximum, 'max', axis, None, out,\n\u001b[0;32m-> 2706\u001b[0;31m                           keepdims=keepdims, initial=initial, where=where)\n\u001b[0m\u001b[1;32m   2707\u001b[0m \u001b[0;34m\u001b[0m\u001b[0m\n\u001b[1;32m   2708\u001b[0m \u001b[0;34m\u001b[0m\u001b[0m\n",
      "\u001b[0;32m~/anaconda3/lib/python3.7/site-packages/numpy/core/fromnumeric.py\u001b[0m in \u001b[0;36m_wrapreduction\u001b[0;34m(obj, ufunc, method, axis, dtype, out, **kwargs)\u001b[0m\n\u001b[1;32m     85\u001b[0m                 \u001b[0;32mreturn\u001b[0m \u001b[0mreduction\u001b[0m\u001b[0;34m(\u001b[0m\u001b[0maxis\u001b[0m\u001b[0;34m=\u001b[0m\u001b[0maxis\u001b[0m\u001b[0;34m,\u001b[0m \u001b[0mout\u001b[0m\u001b[0;34m=\u001b[0m\u001b[0mout\u001b[0m\u001b[0;34m,\u001b[0m \u001b[0;34m**\u001b[0m\u001b[0mpasskwargs\u001b[0m\u001b[0;34m)\u001b[0m\u001b[0;34m\u001b[0m\u001b[0;34m\u001b[0m\u001b[0m\n\u001b[1;32m     86\u001b[0m \u001b[0;34m\u001b[0m\u001b[0m\n\u001b[0;32m---> 87\u001b[0;31m     \u001b[0;32mreturn\u001b[0m \u001b[0mufunc\u001b[0m\u001b[0;34m.\u001b[0m\u001b[0mreduce\u001b[0m\u001b[0;34m(\u001b[0m\u001b[0mobj\u001b[0m\u001b[0;34m,\u001b[0m \u001b[0maxis\u001b[0m\u001b[0;34m,\u001b[0m \u001b[0mdtype\u001b[0m\u001b[0;34m,\u001b[0m \u001b[0mout\u001b[0m\u001b[0;34m,\u001b[0m \u001b[0;34m**\u001b[0m\u001b[0mpasskwargs\u001b[0m\u001b[0;34m)\u001b[0m\u001b[0;34m\u001b[0m\u001b[0;34m\u001b[0m\u001b[0m\n\u001b[0m\u001b[1;32m     88\u001b[0m \u001b[0;34m\u001b[0m\u001b[0m\n\u001b[1;32m     89\u001b[0m \u001b[0;34m\u001b[0m\u001b[0m\n",
      "\u001b[0;31mValueError\u001b[0m: zero-size array to reduction operation maximum which has no identity"
     ]
    }
   ],
   "source": [
    "nsteps = 10000\n",
    "burn =(nsteps//2)\n",
    "thin = 1\n",
    "\n",
    "#with Pool() as pool:\n",
    "#sampler = emcee.EnsembleSampler(nwalkers, ndim, ln_posterior, args=(depth,err,filters,data,wave), pool=pool)\n",
    "#sampler.run_mcmc(pos0, nsteps,progress=True)\n",
    "sampler = emcee.EnsembleSampler(nwalkers, ndim, ln_posterior, args=(depth,err,filters,star,modelteff,modelspectra,modelwave), threads=nthreads)\n",
    "sampler.run_mcmc(pos0, nsteps,progress=True)\n",
    "\n",
    "print('done')"
   ]
  },
  {
   "cell_type": "code",
   "execution_count": null,
   "metadata": {},
   "outputs": [],
   "source": [
    "flat = np.array(sampler.get_chain(discard=burn, thin=thin, flat=True))\n",
    "\n",
    "flat_samples = np.array(flat)\n",
    "flat_samples[:,2]*=100\n",
    "labels = [r'$f_{S}$',r'$T_{\\rm{spot}}$','D (%)']\n",
    "print(flat_samples.shape)\n",
    "fig = corner.corner( \n",
    "    flat_samples, labels=labels, show_titles=True,\n",
    "    fill_contours=True, plot_datapoints=False,title_kwargs={\"fontsize\": 11},title_fmt='.4f',\n",
    "    hist_kwargs={\"linewidth\": 2.5},levels=[(1-np.exp(-0.5)),(1-np.exp(-2)),(1-np.exp(-4.5))]\n",
    ");\n",
    "\n",
    "#plt.show()\n",
    "plt.savefig('Corner_spots.pdf')"
   ]
  },
  {
   "cell_type": "code",
   "execution_count": null,
   "metadata": {},
   "outputs": [],
   "source": [
    "fig, axes = plt.subplots(ndim, figsize=(10, 7), sharex=True)\n",
    "samples = sampler.get_chain(discard=burn)\n",
    "for i in range(ndim):\n",
    "    ax = axes[i]\n",
    "    ax.plot(samples[:, :, i], \"k\", alpha=0.3)\n",
    "    ax.set_xlim(0, len(samples))\n",
    "    ax.set_ylabel(labels[i])\n",
    "    ax.yaxis.set_label_coords(-0.1, 0.5)\n",
    "\n",
    "axes[-1].set_xlabel(\"step number\");\n",
    "#plt.show()\n",
    "plt.savefig('Walkers.pdf')"
   ]
  },
  {
   "cell_type": "code",
   "execution_count": null,
   "metadata": {},
   "outputs": [],
   "source": [
    "from IPython.display import display, Math\n",
    "for i in range(ndim):\n",
    "    mcmc = np.percentile(flat_samples[:, i], [16, 50, 84])\n",
    "    #if i == 0:\n",
    "    #    mcmc = np.percentile(np.exp(flat_samples[:, i]), [16, 50, 84])\n",
    "    q = np.diff(mcmc)\n",
    "    txt = \"\\mathrm{{{3}}} = {0:.5f}_{{-{1:.5f}}}^{{{2:.5f}}}\"\n",
    "    if i == 2:\n",
    "        txt = \"\\mathrm{{{3}}} = {0:.0f}_{{-{1:.0f}}}^{{{2:.0f}}}\"\n",
    "    txt = txt.format(mcmc[1], q[0], q[1], labels[i])\n",
    "    display(Math(txt))"
   ]
  },
  {
   "cell_type": "code",
   "execution_count": null,
   "metadata": {},
   "outputs": [],
   "source": [
    "from scipy import integrate\n",
    "## get out the wavelengths for each:\n",
    "star = getspec(modelteff,modelspectra,3470)\n",
    "\n",
    "leffs = []\n",
    "for i in range(0,np.size(filters)):\n",
    "    filt = filters[i]\n",
    "    if hasattr(filt,'wl'):\n",
    "        fw = filt.wl\n",
    "        tm = filt.tm\n",
    "    else:\n",
    "        fw = np.arange(filt.wl_min,filt.wl_max,1)\n",
    "        tm = fw*0+1.\n",
    "    interpfunc = interpolate.interp1d(modelwave, star, kind='linear')\n",
    "    interpolflux = interpfunc(fw)\n",
    "    leff = np.sum(integrate.cumtrapz(fw*tm*interpolflux,fw))/np.sum(integrate.cumtrapz(tm*interpolflux,fw))\n",
    "    print(filt.name,leff)\n",
    "    leffs.append(leff)"
   ]
  },
  {
   "cell_type": "code",
   "execution_count": null,
   "metadata": {},
   "outputs": [],
   "source": [
    "fS = np.percentile(flat_samples[:, 0],[50])\n",
    "Tspot = np.percentile(flat_samples[:, 1],[50])\n",
    "D = np.percentile(flat_samples[:, 2],[50])\n",
    "spot = getspec(modelteff,modelspectra,Tspot)\n",
    "surf = star\n",
    "star = surf*(1.-fS) + spot*fS\n",
    "outoftransit = star\n",
    "intransit = (surf-surf*(D/(1.-fS)))*(1.-fS) + spot*fS\n",
    "transit = (outoftransit-intransit)/outoftransit"
   ]
  },
  {
   "cell_type": "code",
   "execution_count": null,
   "metadata": {},
   "outputs": [],
   "source": [
    "import matplotlib.ticker\n",
    "leffs = np.array(leffs)\n",
    "plt.errorbar(leffs/10000, depth, yerr=err, fmt='o',label='Data')\n",
    "plt.plot(modelwave/10000,transit,label='Spotted model',alpha=0.5)\n",
    "plt.xscale('log')\n",
    "plt.xticks([0.6, 0.9, 1.3, 2.0, 3.1, 4.6],labels=['0.6', '0.9', '1.1','2.0', '3.1', '4.6'])\n",
    "plt.xticks([0.5, 1.1, 1.7, 2.3, 2.9, 3.5, 4.1, 4.7],labels=['0.5', '1.1', '1.7', '2.3', '2.9', '3.5', '4.1', '4.7'])\n",
    "#locs, labels = plt.xticks() \n",
    "plt.ylabel(r'Transit Depth $(R_p/R_*)^2$')\n",
    "plt.xlabel('Wavelength (microns)')\n",
    "plt.legend()\n",
    "plt.xlim(0.5,4.9)\n",
    "plt.gca().xaxis.set_minor_formatter(matplotlib.ticker.NullFormatter())\n",
    "plt.tight_layout()\n",
    "plt.savefig('Trans_spec_spots.pdf')"
   ]
  },
  {
   "cell_type": "code",
   "execution_count": null,
   "metadata": {},
   "outputs": [],
   "source": []
  }
 ],
 "metadata": {
  "kernelspec": {
   "display_name": "Python 3",
   "language": "python",
   "name": "python3"
  },
  "language_info": {
   "codemirror_mode": {
    "name": "ipython",
    "version": 3
   },
   "file_extension": ".py",
   "mimetype": "text/x-python",
   "name": "python",
   "nbconvert_exporter": "python",
   "pygments_lexer": "ipython3",
   "version": "3.7.6"
  }
 },
 "nbformat": 4,
 "nbformat_minor": 4
}
